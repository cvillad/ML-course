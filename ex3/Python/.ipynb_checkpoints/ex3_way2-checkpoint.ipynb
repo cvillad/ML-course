{
 "cells": [
  {
   "cell_type": "markdown",
   "metadata": {},
   "source": [
    "# One vs All logistic regression model for handwritten digits"
   ]
  },
  {
   "cell_type": "code",
   "execution_count": 449,
   "metadata": {},
   "outputs": [],
   "source": [
    "def displayData(X):\n",
    "    for i in range(28):\n",
    "        plt.subplot(4, 7, i+1)\n",
    "        plt.imshow(X[i].reshape(8,8))"
   ]
  },
  {
   "cell_type": "code",
   "execution_count": 564,
   "metadata": {},
   "outputs": [],
   "source": [
    "def sigmoid(z):\n",
    "    g = np.zeros(z.shape)\n",
    "    g = 1/(1+np.exp(-z))\n",
    "    return g"
   ]
  },
  {
   "cell_type": "code",
   "execution_count": 519,
   "metadata": {},
   "outputs": [],
   "source": [
    "def costFunction(theta, X, y, _lambda):\n",
    "    m = y.shape[0]\n",
    "    n = X.shape[1]\n",
    "    \n",
    "    J = 0\n",
    "    theta=theta.reshape(n,10)\n",
    "    grad = np.zeros(theta.shape)\n",
    "    \n",
    "    h = sigmoid(X@theta)\n",
    "    J = -1/m * ((y.T@np.log(h) + (1-y).T@np.log(1-h))-(_lambda/2)*theta[1:,:].T@theta[1:,:])\n",
    "    J = np.sum(J)\n",
    "    grad[0,:] = 1/m * ((X[:,0]).T@(h-y)) \n",
    "    grad[1:,:] = 1/m * (X[:,1:].T@(h-y)) + (_lambda/m)*theta[1:,:]\n",
    "    \n",
    "    grad=grad.reshape(-1)\n",
    "    \n",
    "    return J, grad"
   ]
  },
  {
   "cell_type": "code",
   "execution_count": 597,
   "metadata": {},
   "outputs": [],
   "source": [
    "def computeCost(theta, X, y, _lambda):\n",
    "    \n",
    "    J = 0\n",
    "    \n",
    "    h = sigmoid(X@theta)\n",
    "    #J = -1/m * ((y.T@np.log(h) + (1-y).T@np.log(1-h))-(_lambda/2)*theta[1:,:].T@theta[1:,:])\n",
    "    #J = -1/m * (y.T@np.log(h) + (1-y).T@np.log(1-h))\n",
    "    J = -1/m * y*np.log(h)+(1-y)*np.log(1-h)\n",
    "    J = np.sum(J)\n",
    "    \n",
    "    return J"
   ]
  },
  {
   "cell_type": "code",
   "execution_count": 607,
   "metadata": {},
   "outputs": [
    {
     "data": {
      "text/plain": [
       "array([[ 1.,  0.,  0., ...,  0.,  0.,  0.],\n",
       "       [ 1.,  0.,  0., ..., 10.,  0.,  0.],\n",
       "       [ 1.,  0.,  0., ..., 16.,  9.,  0.],\n",
       "       ...,\n",
       "       [ 1.,  0.,  0., ...,  6.,  0.,  0.],\n",
       "       [ 1.,  0.,  0., ..., 12.,  0.,  0.],\n",
       "       [ 1.,  0.,  0., ..., 12.,  1.,  0.]])"
      ]
     },
     "execution_count": 607,
     "metadata": {},
     "output_type": "execute_result"
    }
   ],
   "source": [
    "np.append(np.ones((m,1)),X,axis=1)"
   ]
  },
  {
   "cell_type": "code",
   "execution_count": 598,
   "metadata": {},
   "outputs": [],
   "source": [
    "def gradientDescent(X, y ,theta, alpha, _lambda, num_iters):\n",
    "    m = y.shape[0]\n",
    "    \n",
    "    J_history = []\n",
    "    dtheta = np.zeros(theta.shape)\n",
    "    \n",
    "    for iter in range(num_iters):\n",
    "        h = sigmoid(X@theta)\n",
    "        \n",
    "        #dtheta[0,:] = 1/m * ((X[:,0].T)@(h-y))\n",
    "        #dtheta[1:,:] = 1/m * ((X[:,1:].T)@(h-y)) #+ (_lambda/m)*theta[1:, :]\n",
    "        dtheta = 1/m * ((X.T)@(h-y))\n",
    "        #theta = theta*(1-alpha*_lambda/m) - alpha*dtheta\n",
    "        \n",
    "        theta = theta - alpha*dtheta\n",
    "        J = computeCost(theta, X, y, _lambda)\n",
    "        \n",
    "        J_history.append(J)\n",
    "    \n",
    "    return theta, J_history"
   ]
  },
  {
   "cell_type": "code",
   "execution_count": 520,
   "metadata": {},
   "outputs": [],
   "source": [
    "def train(X, y, num_labels, _lambda):\n",
    "    m, n = X.shape\n",
    "    \n",
    "    all_theta = np.random.rand(n+1, num_labels)\n",
    "    \n",
    "    X = np.append(np.ones((m,1)), X, axis=1)\n",
    "    \n",
    "    theta_0 = np.zeros((n+1, num_labels))\n",
    "    J = lambda theta: costFunction(theta, X, y, _lambda)[0]\n",
    "    dJ = lambda theta: costFunction(theta, X, y, _lambda)[1]\n",
    "    all_theta = optimize.fmin_cg(J, theta_0, fprime=dJ, maxiter=100,gtol=0.0001)\n",
    "    \n",
    "    return all_theta.reshape(n+1,num_labels)"
   ]
  },
  {
   "cell_type": "code",
   "execution_count": 453,
   "metadata": {},
   "outputs": [],
   "source": [
    "def predict(X, theta):\n",
    "    m = X.shape[0]\n",
    "    num_labels = theta.shape[0]\n",
    "    \n",
    "    p = np.zeros((X.shape[0], 1))\n",
    "    \n",
    "    X = np.append(np.ones((m,1)), X, axis=1)\n",
    "    \n",
    "    \n",
    "    h = sigmoid(X@theta)\n",
    "    \n",
    "    p = np.argmax(h, axis=1)\n",
    "    \n",
    "    return p.reshape(-1,1)"
   ]
  },
  {
   "cell_type": "markdown",
   "metadata": {},
   "source": [
    "# Plotting some examples"
   ]
  },
  {
   "cell_type": "code",
   "execution_count": 592,
   "metadata": {},
   "outputs": [
    {
     "data": {
      "image/png": "[encoded data removed]",
      "text/plain": [
       "<Figure size 432x288 with 28 Axes>"
      ]
     },
     "metadata": {
      "needs_background": "light"
     },
     "output_type": "display_data"
    }
   ],
   "source": [
    "import numpy as np\n",
    "import matplotlib.pyplot as plt\n",
    "\n",
    "from sklearn.datasets import load_digits\n",
    "from scipy import optimize\n",
    "from sklearn.preprocessing import label_binarize\n",
    "\n",
    "\n",
    "digits = load_digits()\n",
    "\n",
    "X = digits.data\n",
    "y = digits.target.reshape(-1, 1)\n",
    "\n",
    "displayData(X)"
   ]
  },
  {
   "cell_type": "markdown",
   "metadata": {},
   "source": [
    "# Training model"
   ]
  },
  {
   "cell_type": "code",
   "execution_count": 601,
   "metadata": {},
   "outputs": [
    {
     "data": {
      "text/plain": [
       "[<matplotlib.lines.Line2D at 0x164b203a220>]"
      ]
     },
     "execution_count": 601,
     "metadata": {},
     "output_type": "execute_result"
    },
    {
     "data": {
      "image/png": "[encoded data removed]",
      "text/plain": [
       "<Figure size 432x288 with 1 Axes>"
      ]
     },
     "metadata": {
      "needs_background": "light"
     },
     "output_type": "display_data"
    }
   ],
   "source": [
    "m = digits.data.shape[0]\n",
    "\n",
    "input_layer_size = m\n",
    "num_labels = 10\n",
    "\n",
    "labels=np.unique(y)\n",
    "\n",
    "labels=label_binarize(y, classes=labels)\n",
    "\n",
    "\n",
    "_lambda = 3\n",
    "\n",
    "#all_theta = train(X, labels, num_labels, _lambda)\n",
    "theta = np.zeros((65,10))\n",
    "J = gradientDescent(np.append(np.ones((m,1)),X,axis=1), labels, theta, 0.0075, 1, 50)[1]\n",
    "plt.plot(J)"
   ]
  },
  {
   "cell_type": "code",
   "execution_count": 585,
   "metadata": {},
   "outputs": [
    {
     "data": {
      "text/plain": [
       "1797"
      ]
     },
     "execution_count": 585,
     "metadata": {},
     "output_type": "execute_result"
    }
   ],
   "source": [
    "np.count_nonzero(1*(y_predict==0))"
   ]
  },
  {
   "cell_type": "markdown",
   "metadata": {},
   "source": [
    "# Predicting for all training examples and calculating the model accuracy"
   ]
  },
  {
   "cell_type": "code",
   "execution_count": 582,
   "metadata": {},
   "outputs": [
    {
     "name": "stdout",
     "output_type": "stream",
     "text": [
      "train accuracy:  9.905397885364495 %\n"
     ]
    }
   ],
   "source": [
    "y_predict = predict(X, theta)\n",
    "print('train accuracy: ',np.mean(1*(y_predict==y))*100,'%')"
   ]
  },
  {
   "cell_type": "markdown",
   "metadata": {},
   "source": [
    "# Predicting for one random training example"
   ]
  },
  {
   "cell_type": "code",
   "execution_count": 496,
   "metadata": {},
   "outputs": [
    {
     "data": {
      "text/plain": [
       "Text(0.5, 1.0, 'predicted: 3')"
      ]
     },
     "execution_count": 496,
     "metadata": {},
     "output_type": "execute_result"
    },
    {
     "data": {
      "image/png": "[encoded data removed]",
      "text/plain": [
       "<Figure size 432x288 with 1 Axes>"
      ]
     },
     "metadata": {
      "needs_background": "light"
     },
     "output_type": "display_data"
    }
   ],
   "source": [
    "random = np.random.randint(m)\n",
    "example = X[random].reshape(1,-1)\n",
    "predicted = predict(example, all_theta).item()\n",
    "plt.imshow(example.reshape(8,8))\n",
    "plt.title('predicted: '+str(predicted))"
   ]
  }
 ],
 "metadata": {
  "kernelspec": {
   "display_name": "Python 3",
   "language": "python",
   "name": "python3"
  },
  "language_info": {
   "codemirror_mode": {
    "name": "ipython",
    "version": 3
   },
   "file_extension": ".py",
   "mimetype": "text/x-python",
   "name": "python",
   "nbconvert_exporter": "python",
   "pygments_lexer": "ipython3",
   "version": "3.8.3"
  }
 },
 "nbformat": 4,
 "nbformat_minor": 4
}
