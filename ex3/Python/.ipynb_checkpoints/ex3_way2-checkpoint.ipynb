{
 "cells": [
  {
   "cell_type": "markdown",
   "metadata": {},
   "source": [
    "# One vs All logistic regression model for handwritten digits"
   ]
  },
  {
   "cell_type": "code",
   "execution_count": 430,
   "metadata": {},
   "outputs": [],
   "source": [
    "def displayData(X):\n",
    "    for i in range(28):\n",
    "        plt.subplot(4, 7, i+1)\n",
    "        plt.imshow(X[i].reshape(8,8))"
   ]
  },
  {
   "cell_type": "code",
   "execution_count": 431,
   "metadata": {},
   "outputs": [],
   "source": [
    "def sigmoid(z):\n",
    "    g = np.zeros(z.shape)\n",
    "    g = 1/(1+np.exp(-z))\n",
    "\n",
    "    return g"
   ]
  },
  {
   "cell_type": "code",
   "execution_count": 432,
   "metadata": {},
   "outputs": [],
   "source": [
    "def train(X, y, num_labels, _lambda):\n",
    "    m, n = X.shape\n",
    "    \n",
    "    all_theta = np.zeros((n+1, num_labels))\n",
    "    \n",
    "    X = np.append(np.ones((m,1)), X, axis=1)\n",
    "    \n",
    "    theta_0 = np.zeros((n+1, num_labels))\n",
    "    J = lambda theta: costFunction(theta, X, y, _lambda)[0]\n",
    "    dJ = lambda theta: costFunction(theta, X, y, _lambda)[1]\n",
    "    all_theta = optimize.fmin_cg(J, theta_0, fprime=dJ)\n",
    "    \n",
    "    return all_theta.reshape(n+1,num_labels)"
   ]
  },
  {
   "cell_type": "code",
   "execution_count": 433,
   "metadata": {},
   "outputs": [],
   "source": [
    "def costFunction(theta, X, y, _lambda):\n",
    "    m = y.shape[0]\n",
    "    n = X.shape[1]\n",
    "    \n",
    "    J = 0\n",
    "    theta=theta.reshape(n,10)\n",
    "    grad = np.zeros(theta.shape)\n",
    "    \n",
    "    h = sigmoid(X@theta)\n",
    "    J = -1/m * ((y.T@np.log(h) + (1-y).T@np.log(1-h))-(_lambda/2)*theta[1:,:].T@theta[1:,:])\n",
    "    J = np.sum(J)\n",
    "    grad[0,:] = 1/m * ((X[:,0]).T@(h-y)) \n",
    "    grad[1:,:] = 1/m * (X[:,1:].T@(h-y)) + (_lambda/m)*theta[1:,:]\n",
    "    \n",
    "    grad=grad.reshape(-1)\n",
    "    \n",
    "    return J, grad"
   ]
  },
  {
   "cell_type": "code",
   "execution_count": 434,
   "metadata": {},
   "outputs": [],
   "source": [
    "def predict(X, theta):\n",
    "    m = X.shape[0]\n",
    "    num_labels = theta.shape[0]\n",
    "    \n",
    "    p = np.zeros((X.shape[0], 1))\n",
    "    \n",
    "    X = np.append(np.ones((m,1)), X, axis=1)\n",
    "    \n",
    "    \n",
    "    h = sigmoid(X@theta)\n",
    "    \n",
    "    p = np.argmax(h, axis=1)\n",
    "    \n",
    "    return p.reshape(-1,1)"
   ]
  },
  {
   "cell_type": "markdown",
   "metadata": {},
   "source": [
    "# Plotting some examples"
   ]
  },
  {
   "cell_type": "code",
   "execution_count": 435,
   "metadata": {},
   "outputs": [
    {
     "data": {
      "image/png": "[encoded data removed]",
      "text/plain": [
       "<Figure size 432x288 with 28 Axes>"
      ]
     },
     "metadata": {
      "needs_background": "light"
     },
     "output_type": "display_data"
    }
   ],
   "source": [
    "import numpy as np\n",
    "import matplotlib.pyplot as plt\n",
    "\n",
    "from sklearn.datasets import load_digits\n",
    "from scipy import optimize\n",
    "from sklearn.preprocessing import label_binarize\n",
    "\n",
    "\n",
    "digits = load_digits()\n",
    "\n",
    "X = digits.data\n",
    "y = digits.target.reshape(-1, 1)\n",
    "\n",
    "displayData(X)"
   ]
  },
  {
   "cell_type": "markdown",
   "metadata": {},
   "source": [
    "# Training model"
   ]
  },
  {
   "cell_type": "code",
   "execution_count": 436,
   "metadata": {},
   "outputs": [
    {
     "name": "stdout",
     "output_type": "stream",
     "text": [
      "Warning: Desired error not necessarily achieved due to precision loss.\n",
      "         Current function value: 33.576568\n",
      "         Iterations: 2\n",
      "         Function evaluations: 60\n",
      "         Gradient evaluations: 48\n"
     ]
    }
   ],
   "source": [
    "input_layer_size = m\n",
    "num_labels = 10\n",
    "\n",
    "labels=np.unique(y)\n",
    "\n",
    "labels=label_binarize(y, classes=labels)\n",
    "\n",
    "m = digits.data.shape[0]\n",
    "\n",
    "_lambda = 3\n",
    "\n",
    "all_theta = train(X, labels, num_labels, _lambda)"
   ]
  },
  {
   "cell_type": "markdown",
   "metadata": {},
   "source": [
    "# Predicting for all training examples and calculating the model accuracy"
   ]
  },
  {
   "cell_type": "code",
   "execution_count": 437,
   "metadata": {},
   "outputs": [
    {
     "name": "stdout",
     "output_type": "stream",
     "text": [
      "train accuracy:  88.36950473010573 %\n"
     ]
    }
   ],
   "source": [
    "y_predict = predict(X, all_theta)\n",
    "print('train accuracy: ',np.mean(1*(y_predict==y))*100,'%')"
   ]
  },
  {
   "cell_type": "markdown",
   "metadata": {},
   "source": [
    "# Predicting for one random training example"
   ]
  },
  {
   "cell_type": "code",
   "execution_count": 438,
   "metadata": {},
   "outputs": [
    {
     "data": {
      "text/plain": [
       "Text(0.5, 1.0, 'predicted: 1')"
      ]
     },
     "execution_count": 438,
     "metadata": {},
     "output_type": "execute_result"
    },
    {
     "data": {
      "image/png": "[encoded data removed]",
      "text/plain": [
       "<Figure size 432x288 with 1 Axes>"
      ]
     },
     "metadata": {
      "needs_background": "light"
     },
     "output_type": "display_data"
    }
   ],
   "source": [
    "random = np.random.randint(m)\n",
    "example = X[random].reshape(1,-1)\n",
    "predicted = predict(example, all_theta).item()\n",
    "plt.imshow(example.reshape(8,8))\n",
    "plt.title('predicted: '+str(predicted))"
   ]
  }
 ],
 "metadata": {
  "kernelspec": {
   "display_name": "Python 3",
   "language": "python",
   "name": "python3"
  },
  "language_info": {
   "codemirror_mode": {
    "name": "ipython",
    "version": 3
   },
   "file_extension": ".py",
   "mimetype": "text/x-python",
   "name": "python",
   "nbconvert_exporter": "python",
   "pygments_lexer": "ipython3",
   "version": "3.8.3"
  }
 },
 "nbformat": 4,
 "nbformat_minor": 4
}
