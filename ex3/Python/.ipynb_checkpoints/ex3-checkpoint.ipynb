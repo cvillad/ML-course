{
 "cells": [
  {
   "cell_type": "markdown",
   "metadata": {},
   "source": [
    "# One vs All logistic regression model for handwritten digits"
   ]
  },
  {
   "cell_type": "code",
   "execution_count": 9,
   "metadata": {},
   "outputs": [],
   "source": [
    "def displayData(X):\n",
    "    for i in range(28):\n",
    "        plt.subplot(4, 7, i+1)\n",
    "        plt.imshow(X[i].reshape(8,8))"
   ]
  },
  {
   "cell_type": "code",
   "execution_count": 10,
   "metadata": {},
   "outputs": [],
   "source": [
    "def costFunction(theta, X, y, _lambda):\n",
    "    m = y.shape[0]\n",
    "    n = X.shape[1]\n",
    "    \n",
    "    J = 0\n",
    "    theta = theta.reshape(-1,1)\n",
    "    \n",
    "    grad = np.zeros(theta.shape)\n",
    "    h = sigmoid(X@theta)\n",
    "    J = -1/m * (y.T@np.log(h) + (1-y).T@np.log(1-h)-(_lambda/2)*(theta[1:].T@theta[1:]))\n",
    "    \n",
    "    grad[0] = 1/m * ((X[:,0]).T@(h-y)) \n",
    "    grad[1:] = 1/m * (X[:,1:].T@(h-y)) + (_lambda/m)*theta[1:]\n",
    "    \n",
    "    theta = theta.reshape(-1)\n",
    "    grad = grad.reshape(-1)\n",
    "    \n",
    "    return J.item(), grad"
   ]
  },
  {
   "cell_type": "code",
   "execution_count": 11,
   "metadata": {},
   "outputs": [],
   "source": [
    "def sigmoid(z):\n",
    "    g = np.zeros(z.shape)\n",
    "    g = 1/(1+np.exp(-z))\n",
    "\n",
    "    return g"
   ]
  },
  {
   "cell_type": "code",
   "execution_count": 12,
   "metadata": {},
   "outputs": [],
   "source": [
    "def train(X, y, num_labels, _lambda):\n",
    "    m, n = X.shape\n",
    "    \n",
    "    all_theta = np.zeros((num_labels, n+1))\n",
    "    \n",
    "    X = np.append(np.ones((m,1)), X, axis=1)\n",
    "    \n",
    "    for c in range(num_labels):\n",
    "        theta_0 = np.zeros((n+1, 1))\n",
    "        J = lambda theta: costFunction(theta, X, 1*(y==c), _lambda)[0]\n",
    "        dJ = lambda theta: costFunction(theta, X, 1*(y==c), _lambda)[1]\n",
    "        theta = optimize.fmin_cg(J, theta_0, fprime=dJ)\n",
    "        all_theta[c,:] = theta\n",
    "    \n",
    "    return all_theta"
   ]
  },
  {
   "cell_type": "code",
   "execution_count": 13,
   "metadata": {},
   "outputs": [],
   "source": [
    "def predict(X, theta):\n",
    "    m = X.shape[0]\n",
    "    num_labels = theta.shape[0]\n",
    "    \n",
    "    p = np.zeros((X.shape[0], 1))\n",
    "    \n",
    "    X = np.append(np.ones((m,1)), X, axis=1)\n",
    "    \n",
    "    z = X@theta.T\n",
    "    \n",
    "    h = sigmoid(X@theta.T)\n",
    "    \n",
    "    p = np.argmax(h, axis=1)\n",
    "    \n",
    "    return p.reshape(-1,1)"
   ]
  },
  {
   "cell_type": "markdown",
   "metadata": {},
   "source": [
    "# Plotting some examples"
   ]
  },
  {
   "cell_type": "code",
   "execution_count": 14,
   "metadata": {},
   "outputs": [
    {
     "data": {
      "image/png": "[encoded data removed]",
      "text/plain": [
       "<Figure size 432x288 with 28 Axes>"
      ]
     },
     "metadata": {
      "needs_background": "light"
     },
     "output_type": "display_data"
    }
   ],
   "source": [
    "import numpy as np\n",
    "import matplotlib.pyplot as plt\n",
    "\n",
    "from sklearn.datasets import load_digits\n",
    "from scipy import optimize\n",
    "\n",
    "\n",
    "digits = load_digits()\n",
    "\n",
    "X = digits.data\n",
    "y = digits.target.reshape(-1, 1)\n",
    "\n",
    "displayData(X)"
   ]
  },
  {
   "cell_type": "markdown",
   "metadata": {},
   "source": [
    "# Training model"
   ]
  },
  {
   "cell_type": "code",
   "execution_count": 15,
   "metadata": {},
   "outputs": [
    {
     "name": "stderr",
     "output_type": "stream",
     "text": [
      "<ipython-input-10-f764f1f87a37>:10: RuntimeWarning: divide by zero encountered in log\n",
      "  J = -1/m * (y.T@np.log(h) + (1-y).T@np.log(1-h)-(_lambda/2)*(theta[1:].T@theta[1:]))\n",
      "<ipython-input-10-f764f1f87a37>:10: RuntimeWarning: invalid value encountered in matmul\n",
      "  J = -1/m * (y.T@np.log(h) + (1-y).T@np.log(1-h)-(_lambda/2)*(theta[1:].T@theta[1:]))\n"
     ]
    },
    {
     "name": "stdout",
     "output_type": "stream",
     "text": [
      "Optimization terminated successfully.\n",
      "         Current function value: 0.001785\n",
      "         Iterations: 823\n",
      "         Function evaluations: 1711\n",
      "         Gradient evaluations: 1711\n",
      "Optimization terminated successfully.\n",
      "         Current function value: 0.021179\n",
      "         Iterations: 2928\n",
      "         Function evaluations: 5625\n",
      "         Gradient evaluations: 5625\n",
      "Optimization terminated successfully.\n",
      "         Current function value: 0.002750\n",
      "         Iterations: 1214\n",
      "         Function evaluations: 2441\n",
      "         Gradient evaluations: 2441\n",
      "Optimization terminated successfully.\n",
      "         Current function value: 0.018632\n",
      "         Iterations: 1798\n",
      "         Function evaluations: 3589\n",
      "         Gradient evaluations: 3589\n",
      "Optimization terminated successfully.\n",
      "         Current function value: 0.003463\n",
      "         Iterations: 814\n",
      "         Function evaluations: 1584\n",
      "         Gradient evaluations: 1584\n"
     ]
    },
    {
     "name": "stderr",
     "output_type": "stream",
     "text": [
      "<ipython-input-10-f764f1f87a37>:10: RuntimeWarning: divide by zero encountered in log\n",
      "  J = -1/m * (y.T@np.log(h) + (1-y).T@np.log(1-h)-(_lambda/2)*(theta[1:].T@theta[1:]))\n",
      "<ipython-input-10-f764f1f87a37>:10: RuntimeWarning: invalid value encountered in matmul\n",
      "  J = -1/m * (y.T@np.log(h) + (1-y).T@np.log(1-h)-(_lambda/2)*(theta[1:].T@theta[1:]))\n"
     ]
    },
    {
     "name": "stdout",
     "output_type": "stream",
     "text": [
      "Optimization terminated successfully.\n",
      "         Current function value: 0.006266\n",
      "         Iterations: 1772\n",
      "         Function evaluations: 3632\n",
      "         Gradient evaluations: 3632\n",
      "Optimization terminated successfully.\n",
      "         Current function value: 0.004345\n",
      "         Iterations: 1202\n",
      "         Function evaluations: 2483\n",
      "         Gradient evaluations: 2483\n",
      "Optimization terminated successfully.\n",
      "         Current function value: 0.005491\n",
      "         Iterations: 1055\n",
      "         Function evaluations: 2131\n",
      "         Gradient evaluations: 2131\n",
      "Optimization terminated successfully.\n",
      "         Current function value: 0.070306\n",
      "         Iterations: 1575\n",
      "         Function evaluations: 3175\n",
      "         Gradient evaluations: 3172\n",
      "Optimization terminated successfully.\n",
      "         Current function value: 0.022213\n",
      "         Iterations: 2917\n",
      "         Function evaluations: 5668\n",
      "         Gradient evaluations: 5668\n"
     ]
    }
   ],
   "source": [
    "m = digits.data.shape[0]\n",
    "\n",
    "input_layer_size = m\n",
    "num_labels = 10\n",
    "\n",
    "_lambda = 3\n",
    "\n",
    "all_theta = train(X, y, num_labels, _lambda)"
   ]
  },
  {
   "cell_type": "markdown",
   "metadata": {},
   "source": [
    "# Predicting for all training examples and calculating the model accuracy"
   ]
  },
  {
   "cell_type": "code",
   "execution_count": 16,
   "metadata": {},
   "outputs": [
    {
     "name": "stdout",
     "output_type": "stream",
     "text": [
      "train accuracy:  99.4991652754591 %\n"
     ]
    }
   ],
   "source": [
    "y_predict = predict(X, all_theta)\n",
    "print('train accuracy: ',np.mean(1*(y_predict==y))*100,'%')"
   ]
  },
  {
   "cell_type": "markdown",
   "metadata": {},
   "source": [
    "# Predicting for one random training example"
   ]
  },
  {
   "cell_type": "code",
   "execution_count": 17,
   "metadata": {},
   "outputs": [
    {
     "data": {
      "text/plain": [
       "Text(0.5, 1.0, 'predicted: 7')"
      ]
     },
     "execution_count": 17,
     "metadata": {},
     "output_type": "execute_result"
    },
    {
     "data": {
      "image/png": "[encoded data removed]",
      "text/plain": [
       "<Figure size 432x288 with 1 Axes>"
      ]
     },
     "metadata": {
      "needs_background": "light"
     },
     "output_type": "display_data"
    }
   ],
   "source": [
    "random = np.random.randint(m)\n",
    "example = X[random].reshape(1,-1)\n",
    "predicted = predict(example, all_theta).item()\n",
    "plt.imshow(example.reshape(8,8))\n",
    "plt.title('predicted: '+str(predicted))"
   ]
  }
 ],
 "metadata": {
  "kernelspec": {
   "display_name": "Python 3",
   "language": "python",
   "name": "python3"
  },
  "language_info": {
   "codemirror_mode": {
    "name": "ipython",
    "version": 3
   },
   "file_extension": ".py",
   "mimetype": "text/x-python",
   "name": "python",
   "nbconvert_exporter": "python",
   "pygments_lexer": "ipython3",
   "version": "3.8.3"
  }
 },
 "nbformat": 4,
 "nbformat_minor": 4
}
