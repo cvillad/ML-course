{
 "cells": [
  {
   "cell_type": "markdown",
   "metadata": {},
   "source": [
    "# One vs All logistic regression model for handwritten digits"
   ]
  },
  {
   "cell_type": "code",
   "execution_count": 1,
   "metadata": {},
   "outputs": [],
   "source": [
    "def displayData(X):\n",
    "    for i in range(28):\n",
    "        plt.subplot(4, 7, i+1)\n",
    "        plt.imshow(X[i].reshape(8,8))"
   ]
  },
  {
   "cell_type": "code",
   "execution_count": 2,
   "metadata": {},
   "outputs": [],
   "source": [
    "def sigmoid(z):\n",
    "    g = np.zeros(z.shape)\n",
    "    g = 1/(1+np.exp(-z))\n",
    "    return g"
   ]
  },
  {
   "cell_type": "code",
   "execution_count": 211,
   "metadata": {},
   "outputs": [],
   "source": [
    "def costFunction(theta, X, y, _lambda):\n",
    "    m = y.shape[0]\n",
    "    n = X.shape[1]\n",
    "    \n",
    "    J = 0\n",
    "    theta=theta.reshape(n,10)\n",
    "    grad = np.zeros(theta.shape)\n",
    "    \n",
    "    h = sigmoid(X@theta)\n",
    "    J = -1/m * (y*np.log(h)+(1-y)*np.log(1-h)) #-(_lambda/2)*theta[1:,:].T@theta[1:,:])\n",
    "    J = np.sum(J)\n",
    "    grad = ((X.T)@(h-y))/m\n",
    "#     grad[0,:] = 1/m * ((X[:,0]).T@(h-y)) \n",
    "#     grad[1:,:] = 1/m * (X[:,1:].T@(h-y)) + (_lambda/m)*theta[1:,:]\n",
    "    \n",
    "    grad=grad.reshape(-1)\n",
    "    \n",
    "    return J, grad"
   ]
  },
  {
   "cell_type": "code",
   "execution_count": 288,
   "metadata": {},
   "outputs": [],
   "source": [
    "def computeCost(theta, X, y, _lambda):\n",
    "    \n",
    "    J = 0\n",
    "    m = X.shape[0]\n",
    "    h = sigmoid(X@theta)\n",
    "    #J = -1/m * ((y.T@np.log(h) + (1-y).T@np.log(1-h))-(_lambda/2)*theta[1:,:].T@theta[1:,:])\n",
    "    #J = -1/m * (y.T@np.log(h) + (1-y).T@np.log(1-h))\n",
    "    J = -1/m * (y*np.log(h)+(1-y)*np.log(1-h))\n",
    "    J = np.sum(J)\n",
    "    dtheta = ((X.T)@(h-y))/m\n",
    "    \n",
    "    return J, dtheta"
   ]
  },
  {
   "cell_type": "code",
   "execution_count": 289,
   "metadata": {},
   "outputs": [],
   "source": [
    "def gradientDescent(X, y ,theta, alpha, _lambda, num_iters):\n",
    "    m = y.shape[0]\n",
    "    \n",
    "    J_history = []\n",
    "    dtheta = np.zeros(theta.shape)\n",
    "    \n",
    "    for iter in range(num_iters):\n",
    "        \n",
    "        J,  dtheta= computeCost(theta, X, y, _lambda)\n",
    "        J_history.append(J)\n",
    "        \n",
    "        theta = theta - alpha*dtheta\n",
    "    return theta, J_history"
   ]
  },
  {
   "cell_type": "code",
   "execution_count": 347,
   "metadata": {},
   "outputs": [],
   "source": [
    "def train(X, y, num_labels, _lambda):\n",
    "    m, n = X.shape\n",
    "    \n",
    "    all_theta = np.zeros((n+1, num_labels))\n",
    "    \n",
    "    X = np.append(np.ones((m,1)), X, axis=1)\n",
    "    theta_0 = np.zeros((n+1, num_labels))\n",
    "    J = lambda theta: costFunction(theta, X, y, _lambda)[0]\n",
    "    dJ = lambda theta: costFunction(theta, X, y, _lambda)[1]\n",
    "    all_theta = optimize.fmin_cg(J, theta_0, fprime=dJ, maxiter=400,gtol=0.0001,callback=call_back_fminc)\n",
    "    \n",
    "    return all_theta.reshape(n+1,num_labels)\n",
    "\n",
    "itera = 0\n",
    "X_ = np.append(np.ones((m,1)), X, axis=1)\n",
    "J_ = lambda theta: costFunction(theta, X_, labels, 0)[0]\n",
    "                     \n",
    "def call_back_fminc(theta):\n",
    "    global itera\n",
    "    tqdm_train.set_description(f'loss : {J_(theta):.4f} iter: {itera+1}')\n",
    "    itera += 1    \n",
    "    tqdm_train.update(1)"
   ]
  },
  {
   "cell_type": "code",
   "execution_count": 348,
   "metadata": {},
   "outputs": [],
   "source": [
    "def predict(X, theta):\n",
    "    m = X.shape[0]\n",
    "    num_labels = theta.shape[0]\n",
    "    \n",
    "    p = np.zeros((X.shape[0], 1))\n",
    "    \n",
    "    X = np.append(np.ones((m,1)), X, axis=1)\n",
    "    \n",
    "    \n",
    "    h = sigmoid(X@theta)\n",
    "    \n",
    "    p = np.argmax(h, axis=1)\n",
    "    \n",
    "    return p.reshape(-1,1)"
   ]
  },
  {
   "cell_type": "markdown",
   "metadata": {},
   "source": [
    "# Plotting some examples"
   ]
  },
  {
   "cell_type": "code",
   "execution_count": 344,
   "metadata": {},
   "outputs": [],
   "source": [
    "# import numpy as np\n",
    "# import torch\n",
    "# import matplotlib.pyplot as plt\n",
    "\n",
    "# from sklearn.datasets import load_digits\n",
    "# from scipy import optimize\n",
    "# from sklearn.preprocessing import label_binarize\n",
    "\n",
    "\n",
    "# digits = load_digits()\n",
    "\n",
    "# X = digits.data\n",
    "# y = digits.target.reshape(-1, 1)\n",
    "\n",
    "# displayData(X)"
   ]
  },
  {
   "cell_type": "markdown",
   "metadata": {},
   "source": [
    "# Training model"
   ]
  },
  {
   "cell_type": "code",
   "execution_count": 319,
   "metadata": {},
   "outputs": [],
   "source": [
    "m = X.shape[0]\n",
    "X_t = torch.from_numpy(X)\n",
    "X_t = torch.cat([torch.ones(m,1,dtype=X_t.dtype), X_t], dim=1).float()\n",
    "y_t = torch.eye(10)[torch.from_numpy(y)].squeeze().float()\n",
    "theta = torch.zeros(X_t.shape[1], 10, dtype=X_t.dtype, requires_grad=True)\n",
    "\n",
    "l = X_t.mm(theta)\n",
    "nl = torch.sigmoid(l)\n",
    "\n",
    "loss = - 1/m * (y_t*torch.log(nl) + (1-y_t)*torch.log(1-nl))\n",
    "loss.sum().backward()\n",
    "theta_grad = theta.grad"
   ]
  },
  {
   "cell_type": "code",
   "execution_count": 320,
   "metadata": {},
   "outputs": [],
   "source": [
    "X_ = np.concatenate([np.ones((m,1)), X], axis=1)\n",
    "theta0 = np.zeros((X_.shape[1], 10))\n",
    "y_ = np.eye(10)[y].squeeze()\n",
    "loss_, grad_ = computeCost(theta0, X_, y_, 0)"
   ]
  },
  {
   "cell_type": "code",
   "execution_count": 321,
   "metadata": {},
   "outputs": [
    {
     "data": {
      "text/plain": [
       "(6.931519031524658, 6.931471805599455)"
      ]
     },
     "execution_count": 321,
     "metadata": {},
     "output_type": "execute_result"
    }
   ],
   "source": [
    "loss.sum().item(), loss_"
   ]
  },
  {
   "cell_type": "code",
   "execution_count": 322,
   "metadata": {
    "scrolled": true
   },
   "outputs": [
    {
     "data": {
      "text/plain": [
       "1.481070835328663e-05"
      ]
     },
     "execution_count": 322,
     "metadata": {},
     "output_type": "execute_result"
    }
   ],
   "source": [
    "np.linalg.norm(grad_ - theta_grad.numpy())"
   ]
  },
  {
   "cell_type": "code",
   "execution_count": 324,
   "metadata": {},
   "outputs": [],
   "source": [
    "# from tqdm.notebook import tqdm\n",
    "\n",
    "# theta_0 = np.zeros((X_.shape[1]*10))\n",
    "# grad_apr = np.zeros_like(theta_0)\n",
    "# perturb = np.zeros_like(theta_0)\n",
    "# e = 0.001\n",
    "# J = lambda theta: costFunction(theta, X_, y_, 0)[0]\n",
    "# # dJ = lambda theta: costFunction(theta, X, y, _lambda)[1]\n",
    "\n",
    "# for i in tqdm(range(len(theta_0))):\n",
    "#     perturb[i] = e\n",
    "#     grad_apr[i] =  J(theta_0 + perturb) - J(theta_0 - perturb) \n",
    "#     grad_apr[i] /= (2*e)\n",
    "#     perturb[i] = 0"
   ]
  },
  {
   "cell_type": "code",
   "execution_count": 325,
   "metadata": {
    "scrolled": true
   },
   "outputs": [
    {
     "data": {
      "text/plain": [
       "1.4810708511535781e-05"
      ]
     },
     "execution_count": 325,
     "metadata": {},
     "output_type": "execute_result"
    }
   ],
   "source": [
    "np.linalg.norm(grad_apr.reshape(-1,10) - theta_grad.numpy())"
   ]
  },
  {
   "cell_type": "code",
   "execution_count": 349,
   "metadata": {},
   "outputs": [
    {
     "data": {
      "application/vnd.jupyter.widget-view+json": {
       "model_id": "6cbea3530c0d4f6ab9f91c074ec95975",
       "version_major": 2,
       "version_minor": 0
      },
      "text/plain": [
       "HBox(children=(FloatProgress(value=0.0, max=400.0), HTML(value='')))"
      ]
     },
     "metadata": {},
     "output_type": "display_data"
    },
    {
     "name": "stderr",
     "output_type": "stream",
     "text": [
      "/opt/miniconda3/lib/python3.7/site-packages/ipykernel_launcher.py:10: RuntimeWarning: divide by zero encountered in log\n",
      "  # Remove the CWD from sys.path while we load stuff.\n",
      "/opt/miniconda3/lib/python3.7/site-packages/ipykernel_launcher.py:10: RuntimeWarning: invalid value encountered in multiply\n",
      "  # Remove the CWD from sys.path while we load stuff.\n"
     ]
    },
    {
     "name": "stdout",
     "output_type": "stream",
     "text": [
      "Warning: Maximum number of iterations has been exceeded.\n",
      "         Current function value: 0.152575\n",
      "         Iterations: 400\n",
      "         Function evaluations: 641\n",
      "         Gradient evaluations: 641\n"
     ]
    }
   ],
   "source": [
    "m = digits.data.shape[0]\n",
    "\n",
    "input_layer_size = m\n",
    "num_labels = 10\n",
    "\n",
    "labels=np.unique(y)\n",
    "\n",
    "labels=label_binarize(y, classes=labels)\n",
    "tqdm_train = tqdm(total=400,\n",
    "                     position=0)\n",
    "\n",
    "_lambda = 0\n",
    "\n",
    "all_theta = train(X, labels, num_labels, _lambda)"
   ]
  },
  {
   "cell_type": "markdown",
   "metadata": {},
   "source": [
    "# Predicting for all training examples and calculating the model accuracy"
   ]
  },
  {
   "cell_type": "code",
   "execution_count": 350,
   "metadata": {},
   "outputs": [
    {
     "name": "stdout",
     "output_type": "stream",
     "text": [
      "train accuracy:  99.27657206455203 %\n"
     ]
    }
   ],
   "source": [
    "y_predict = predict(X, all_theta)\n",
    "print('train accuracy: ',np.mean(1*(y_predict==y))*100,'%')"
   ]
  },
  {
   "cell_type": "markdown",
   "metadata": {},
   "source": [
    "# Predicting for one random training example"
   ]
  },
  {
   "cell_type": "code",
   "execution_count": 359,
   "metadata": {},
   "outputs": [
    {
     "data": {
      "text/plain": [
       "Text(0.5, 1.0, 'predicted: 3')"
      ]
     },
     "execution_count": 359,
     "metadata": {},
     "output_type": "execute_result"
    },
    {
     "data": {
      "image/png": "[encoded data removed]",
      "text/plain": [
       "<Figure size 432x288 with 1 Axes>"
      ]
     },
     "metadata": {
      "needs_background": "light"
     },
     "output_type": "display_data"
    }
   ],
   "source": [
    "random = np.random.randint(m)\n",
    "example = X[random].reshape(1,-1)\n",
    "predicted = predict(example, all_theta).item()\n",
    "plt.imshow(example.reshape(8,8))\n",
    "plt.title('predicted: '+str(predicted))"
   ]
  }
 ],
 "metadata": {
  "kernelspec": {
   "display_name": "Python 3",
   "language": "python",
   "name": "python3"
  },
  "language_info": {
   "codemirror_mode": {
    "name": "ipython",
    "version": 3
   },
   "file_extension": ".py",
   "mimetype": "text/x-python",
   "name": "python",
   "nbconvert_exporter": "python",
   "pygments_lexer": "ipython3",
   "version": "3.7.7"
  }
 },
 "nbformat": 4,
 "nbformat_minor": 4
}
