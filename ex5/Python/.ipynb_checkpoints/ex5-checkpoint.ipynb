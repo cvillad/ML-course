{
 "cells": [
  {
   "cell_type": "markdown",
   "metadata": {},
   "source": [
    "# Learning curves"
   ]
  },
  {
   "cell_type": "code",
   "execution_count": 375,
   "metadata": {},
   "outputs": [],
   "source": [
    "def polyFeatures(X, degree):\n",
    "    X_poly = np.zeros((X.shape[0], degree))\n",
    "    X_poly[:, 0] = X.reshape(-1)\n",
    "    for i in range(1, degree):\n",
    "        X_poly[:, i] = (X**(i+1)).reshape(-1)\n",
    "    return X_poly"
   ]
  },
  {
   "cell_type": "code",
   "execution_count": 376,
   "metadata": {},
   "outputs": [],
   "source": [
    "def mapFeature(X):\n",
    "    mu = np.mean(X, axis=0).reshape(1,-1)\n",
    "    X_norm = X-mu\n",
    "    sigma = np.std(X, axis=0, ddof=1).reshape(1,-1)\n",
    "    X_norm = X_norm/sigma\n",
    "    return X_norm, mu, sigma"
   ]
  },
  {
   "cell_type": "code",
   "execution_count": 377,
   "metadata": {},
   "outputs": [],
   "source": [
    "def validationCurve(X, y, X_val, y_val):\n",
    "    lambdas = [0, 0.001, 0.003, 0.01, 0.03, 0.1, 0.3, 1, 3, 10]\n",
    "    cost_val = []\n",
    "    cost_train = []\n",
    "    for i in range(len(lambdas)):\n",
    "        _lambda = lambdas[i]\n",
    "        theta = train(X, y, _lambda, False)\n",
    "        cost_train.append(costFunction(X, y, theta, 0)[0])\n",
    "        cost_val.append(costFunction(X_val, y_val, theta, 0)[0])\n",
    "    \n",
    "    return lambdas, cost_train, cost_val"
   ]
  },
  {
   "cell_type": "code",
   "execution_count": 378,
   "metadata": {},
   "outputs": [],
   "source": [
    "def train(X, y, _lambda, disp=True):\n",
    "    \n",
    "    theta_0 = np.zeros((X.shape[1], 1))\n",
    "    \n",
    "    J = lambda theta: costFunction(X, y, theta, _lambda)[0]\n",
    "    dJ = lambda theta: costFunction(X, y, theta, _lambda)[1]\n",
    "    theta = optimize.fmin_cg(J, theta_0, fprime=dJ, maxiter=400, gtol=0.001, disp=disp)\n",
    "    return theta"
   ]
  },
  {
   "cell_type": "code",
   "execution_count": 379,
   "metadata": {},
   "outputs": [],
   "source": [
    "def costFunction(X, y, theta, _lambda):\n",
    "    m = y.shape[0]\n",
    "    n = X.shape[1]\n",
    "    \n",
    "    theta = theta.reshape(-1,1)\n",
    "    \n",
    "    grad = np.zeros(theta.shape)\n",
    "    h = X@theta\n",
    "    J = 1/(2*m) * ((h-y).T@(h-y) + _lambda*(theta[1:].T@theta[1:]))\n",
    "    \n",
    "    grad[0] = 1/m * ((X[:,0]).T@(h-y)) \n",
    "    grad[1:] = 1/m * (X[:,1:].T@(h-y) + _lambda*theta[1:])\n",
    "    \n",
    "    grad = grad.reshape(-1)\n",
    "    \n",
    "    return J.item(), grad"
   ]
  },
  {
   "cell_type": "code",
   "execution_count": 380,
   "metadata": {},
   "outputs": [],
   "source": [
    "def learningCurve(X, y, X_val, y_val, _lambda):\n",
    "    m = X.shape[0]\n",
    "    cost_train = []\n",
    "    cost_val = []\n",
    "    for i in range(m):\n",
    "        theta = train(X[0:i+1,:], y[0:i+1], _lambda, False)\n",
    "        cost_train.append(costFunction(X[0:i+1,:], y[0:i+1], theta, 0)[0])\n",
    "        cost_val.append(costFunction(X_val, y_val, theta, 0)[0])\n",
    "        \n",
    "    return cost_train, cost_val"
   ]
  },
  {
   "cell_type": "markdown",
   "metadata": {},
   "source": [
    "# Plotting training data"
   ]
  },
  {
   "cell_type": "code",
   "execution_count": 381,
   "metadata": {
    "scrolled": false
   },
   "outputs": [
    {
     "data": {
      "text/plain": [
       "[<matplotlib.lines.Line2D at 0x2880564b0a0>]"
      ]
     },
     "execution_count": 381,
     "metadata": {},
     "output_type": "execute_result"
    },
    {
     "data": {
      "image/png": "[encoded data removed]",
      "text/plain": [
       "<Figure size 432x288 with 1 Axes>"
      ]
     },
     "metadata": {
      "needs_background": "light"
     },
     "output_type": "display_data"
    }
   ],
   "source": [
    "from scipy import optimize\n",
    "\n",
    "import scipy.io\n",
    "\n",
    "import numpy as np\n",
    "import matplotlib.pyplot as plt\n",
    "\n",
    "\n",
    "data = scipy.io.loadmat('../MATLAB/ex5data1.mat')\n",
    "X_train = data['X']\n",
    "y_train = data['y']\n",
    "X_val = data['Xval']\n",
    "y_val = data['yval']\n",
    "X_test = data['Xtest']\n",
    "y_test = data['ytest']\n",
    "\n",
    "plt.plot(X_train, y_train, 'o')"
   ]
  },
  {
   "cell_type": "markdown",
   "metadata": {},
   "source": [
    "# Training the model"
   ]
  },
  {
   "cell_type": "code",
   "execution_count": 382,
   "metadata": {
    "scrolled": false
   },
   "outputs": [
    {
     "name": "stdout",
     "output_type": "stream",
     "text": [
      "Optimization terminated successfully.\n",
      "         Current function value: 22.379542\n",
      "         Iterations: 2\n",
      "         Function evaluations: 5\n",
      "         Gradient evaluations: 5\n"
     ]
    },
    {
     "data": {
      "text/plain": [
       "[<matplotlib.lines.Line2D at 0x2880569b610>]"
      ]
     },
     "execution_count": 382,
     "metadata": {},
     "output_type": "execute_result"
    },
    {
     "data": {
      "image/png": "[encoded data removed]",
      "text/plain": [
       "<Figure size 432x288 with 1 Axes>"
      ]
     },
     "metadata": {
      "needs_background": "light"
     },
     "output_type": "display_data"
    }
   ],
   "source": [
    "ones = np.ones((m,1))\n",
    "\n",
    "_lambda = 1\n",
    "\n",
    "theta = train(np.append(ones, X_train, axis=1), y_train, _lambda, True)\n",
    "\n",
    "plt.plot(X_train, y_train, 'o')\n",
    "plt.plot(X_train, np.append(ones, X_train, axis=1)@theta)"
   ]
  },
  {
   "cell_type": "markdown",
   "metadata": {},
   "source": [
    "# Learning curve Cost Vs Number of training examples"
   ]
  },
  {
   "cell_type": "code",
   "execution_count": 383,
   "metadata": {
    "scrolled": true
   },
   "outputs": [
    {
     "data": {
      "image/png": "[encoded data removed]",
      "text/plain": [
       "<Figure size 432x288 with 1 Axes>"
      ]
     },
     "metadata": {
      "needs_background": "light"
     },
     "output_type": "display_data"
    }
   ],
   "source": [
    "_lambda = 0\n",
    "\n",
    "cost_train, cost_val = learningCurve(np.append(ones, X_train, axis=1), y_train, np.append(np.ones((X_val.shape[0],1)), X_val, axis=1), y_val, _lambda)\n",
    "\n",
    "plt.plot(np.arange(m), cost_train, label='Training cost')\n",
    "plt.plot(np.arange(m), cost_val, label='Validation cost')\n",
    "plt.legend(loc = 'best')\n",
    "plt.title('Cost Vs Training examples')\n",
    "plt.ylabel('Cost')\n",
    "plt.xlabel('Training examples')\n",
    "plt.show()"
   ]
  },
  {
   "cell_type": "markdown",
   "metadata": {},
   "source": [
    "# Learning curve Cost Vs Lambda"
   ]
  },
  {
   "cell_type": "code",
   "execution_count": 384,
   "metadata": {
    "scrolled": false
   },
   "outputs": [
    {
     "data": {
      "image/png": "[encoded data removed]",
      "text/plain": [
       "<Figure size 432x288 with 1 Axes>"
      ]
     },
     "metadata": {
      "needs_background": "light"
     },
     "output_type": "display_data"
    },
    {
     "name": "stdout",
     "output_type": "stream",
     "text": [
      "Training cost:  0.06068415188621691  CV Cost:  8.229603279652617  Lambda:  0\n",
      "Training cost:  0.1140987655827548  CV Cost:  11.505840687741403  Lambda:  0.001\n",
      "Training cost:  0.17877772552567098  CV Cost:  15.140380626311655  Lambda:  0.003\n",
      "Training cost:  0.22630682788915674  CV Cost:  15.315746930513825  Lambda:  0.01\n",
      "Training cost:  0.28295129599036406  CV Cost:  12.017321873055414  Lambda:  0.03\n",
      "Training cost:  0.4607887751881239  CV Cost:  7.977711153901055  Lambda:  0.1\n",
      "Training cost:  0.9233445436722445  CV Cost:  5.3890803776300515  Lambda:  0.3\n",
      "Training cost:  2.075608231662952  CV Cost:  4.695711008114066  Lambda:  1\n",
      "Training cost:  4.9012795292287  CV Cost:  5.005630160721958  Lambda:  3\n",
      "Training cost:  16.091589545998236  CV Cost:  13.003836698886916  Lambda:  10\n"
     ]
    }
   ],
   "source": [
    "X = polyFeatures(X_train, 8)\n",
    "X, mu, sigma = mapFeature(X)\n",
    "\n",
    "X_val2 = polyFeatures(X_val, 8)\n",
    "X_val2, mu2, sigma2 = mapFeature(X_val2)\n",
    "\n",
    "lambdas, cost_train, cost_val = validationCurve(np.append(ones, X, axis=1), y_train, np.append(np.ones((X_val2.shape[0],1)), X_val2, axis=1), y_val)\n",
    "\n",
    "plt.plot(lambdas, cost_train, label='Training cost')\n",
    "plt.plot(lambdas, cost_val, label='Validation cost')\n",
    "plt.legend(loc = 'best')\n",
    "plt.title('Cost Vs Lambda')\n",
    "plt.ylabel('Cost')\n",
    "plt.xlabel('Lambda')\n",
    "plt.show()\n",
    "\n",
    "for i in range(len(lambdas)):\n",
    "    print('Training cost: ',cost_train[i],' CV Cost: ',cost_val[i], ' Lambda: ',lambdas[i])"
   ]
  },
  {
   "cell_type": "code",
   "execution_count": 385,
   "metadata": {},
   "outputs": [
    {
     "data": {
      "text/html": [
       "<div>\n",
       "<style scoped>\n",
       "    .dataframe tbody tr th:only-of-type {\n",
       "        vertical-align: middle;\n",
       "    }\n",
       "\n",
       "    .dataframe tbody tr th {\n",
       "        vertical-align: top;\n",
       "    }\n",
       "\n",
       "    .dataframe thead th {\n",
       "        text-align: right;\n",
       "    }\n",
       "</style>\n",
       "<table border=\"1\" class=\"dataframe\">\n",
       "  <thead>\n",
       "    <tr style=\"text-align: right;\">\n",
       "      <th></th>\n",
       "      <th>0</th>\n",
       "      <th>1</th>\n",
       "      <th>2</th>\n",
       "      <th>3</th>\n",
       "      <th>4</th>\n",
       "      <th>5</th>\n",
       "      <th>6</th>\n",
       "      <th>7</th>\n",
       "    </tr>\n",
       "  </thead>\n",
       "  <tbody>\n",
       "    <tr>\n",
       "      <th>0</th>\n",
       "      <td>-0.362141</td>\n",
       "      <td>-0.755087</td>\n",
       "      <td>0.182226</td>\n",
       "      <td>-0.706190</td>\n",
       "      <td>0.306618</td>\n",
       "      <td>-0.590878</td>\n",
       "      <td>0.344516</td>\n",
       "      <td>-0.508481</td>\n",
       "    </tr>\n",
       "    <tr>\n",
       "      <th>1</th>\n",
       "      <td>-0.803205</td>\n",
       "      <td>0.001258</td>\n",
       "      <td>-0.247937</td>\n",
       "      <td>-0.327023</td>\n",
       "      <td>0.093396</td>\n",
       "      <td>-0.435818</td>\n",
       "      <td>0.255416</td>\n",
       "      <td>-0.448912</td>\n",
       "    </tr>\n",
       "    <tr>\n",
       "      <th>2</th>\n",
       "      <td>1.377467</td>\n",
       "      <td>0.584827</td>\n",
       "      <td>1.249769</td>\n",
       "      <td>0.245312</td>\n",
       "      <td>0.978360</td>\n",
       "      <td>-0.012156</td>\n",
       "      <td>0.756568</td>\n",
       "      <td>-0.170352</td>\n",
       "    </tr>\n",
       "    <tr>\n",
       "      <th>3</th>\n",
       "      <td>1.420940</td>\n",
       "      <td>0.706647</td>\n",
       "      <td>1.359846</td>\n",
       "      <td>0.395534</td>\n",
       "      <td>1.106162</td>\n",
       "      <td>0.125637</td>\n",
       "      <td>0.871929</td>\n",
       "      <td>-0.059638</td>\n",
       "    </tr>\n",
       "    <tr>\n",
       "      <th>4</th>\n",
       "      <td>-1.434149</td>\n",
       "      <td>1.854000</td>\n",
       "      <td>-2.037163</td>\n",
       "      <td>2.331431</td>\n",
       "      <td>-2.411536</td>\n",
       "      <td>2.602212</td>\n",
       "      <td>-2.645675</td>\n",
       "      <td>2.766085</td>\n",
       "    </tr>\n",
       "    <tr>\n",
       "      <th>5</th>\n",
       "      <td>-0.128687</td>\n",
       "      <td>-0.975969</td>\n",
       "      <td>0.251385</td>\n",
       "      <td>-0.739687</td>\n",
       "      <td>0.316953</td>\n",
       "      <td>-0.594997</td>\n",
       "      <td>0.345812</td>\n",
       "      <td>-0.508955</td>\n",
       "    </tr>\n",
       "    <tr>\n",
       "      <th>6</th>\n",
       "      <td>0.680582</td>\n",
       "      <td>-0.780029</td>\n",
       "      <td>0.340656</td>\n",
       "      <td>-0.711721</td>\n",
       "      <td>0.326509</td>\n",
       "      <td>-0.591790</td>\n",
       "      <td>0.346830</td>\n",
       "      <td>-0.508613</td>\n",
       "    </tr>\n",
       "    <tr>\n",
       "      <th>7</th>\n",
       "      <td>-0.988534</td>\n",
       "      <td>0.451358</td>\n",
       "      <td>-0.601282</td>\n",
       "      <td>0.092917</td>\n",
       "      <td>-0.218473</td>\n",
       "      <td>-0.141608</td>\n",
       "      <td>0.039403</td>\n",
       "      <td>-0.266693</td>\n",
       "    </tr>\n",
       "    <tr>\n",
       "      <th>8</th>\n",
       "      <td>0.216076</td>\n",
       "      <td>-1.074993</td>\n",
       "      <td>0.266275</td>\n",
       "      <td>-0.743369</td>\n",
       "      <td>0.317561</td>\n",
       "      <td>-0.595129</td>\n",
       "      <td>0.345835</td>\n",
       "      <td>-0.508960</td>\n",
       "    </tr>\n",
       "    <tr>\n",
       "      <th>9</th>\n",
       "      <td>-1.311501</td>\n",
       "      <td>1.422806</td>\n",
       "      <td>-1.548121</td>\n",
       "      <td>1.493396</td>\n",
       "      <td>-1.515908</td>\n",
       "      <td>1.388655</td>\n",
       "      <td>-1.368307</td>\n",
       "      <td>1.224144</td>\n",
       "    </tr>\n",
       "    <tr>\n",
       "      <th>10</th>\n",
       "      <td>0.403777</td>\n",
       "      <td>-1.015010</td>\n",
       "      <td>0.273379</td>\n",
       "      <td>-0.741977</td>\n",
       "      <td>0.317742</td>\n",
       "      <td>-0.595098</td>\n",
       "      <td>0.345839</td>\n",
       "      <td>-0.508959</td>\n",
       "    </tr>\n",
       "    <tr>\n",
       "      <th>11</th>\n",
       "      <td>0.929375</td>\n",
       "      <td>-0.419808</td>\n",
       "      <td>0.510968</td>\n",
       "      <td>-0.588624</td>\n",
       "      <td>0.382616</td>\n",
       "      <td>-0.559030</td>\n",
       "      <td>0.361832</td>\n",
       "      <td>-0.500665</td>\n",
       "    </tr>\n",
       "  </tbody>\n",
       "</table>\n",
       "</div>"
      ],
      "text/plain": [
       "           0         1         2         3         4         5         6  \\\n",
       "0  -0.362141 -0.755087  0.182226 -0.706190  0.306618 -0.590878  0.344516   \n",
       "1  -0.803205  0.001258 -0.247937 -0.327023  0.093396 -0.435818  0.255416   \n",
       "2   1.377467  0.584827  1.249769  0.245312  0.978360 -0.012156  0.756568   \n",
       "3   1.420940  0.706647  1.359846  0.395534  1.106162  0.125637  0.871929   \n",
       "4  -1.434149  1.854000 -2.037163  2.331431 -2.411536  2.602212 -2.645675   \n",
       "5  -0.128687 -0.975969  0.251385 -0.739687  0.316953 -0.594997  0.345812   \n",
       "6   0.680582 -0.780029  0.340656 -0.711721  0.326509 -0.591790  0.346830   \n",
       "7  -0.988534  0.451358 -0.601282  0.092917 -0.218473 -0.141608  0.039403   \n",
       "8   0.216076 -1.074993  0.266275 -0.743369  0.317561 -0.595129  0.345835   \n",
       "9  -1.311501  1.422806 -1.548121  1.493396 -1.515908  1.388655 -1.368307   \n",
       "10  0.403777 -1.015010  0.273379 -0.741977  0.317742 -0.595098  0.345839   \n",
       "11  0.929375 -0.419808  0.510968 -0.588624  0.382616 -0.559030  0.361832   \n",
       "\n",
       "           7  \n",
       "0  -0.508481  \n",
       "1  -0.448912  \n",
       "2  -0.170352  \n",
       "3  -0.059638  \n",
       "4   2.766085  \n",
       "5  -0.508955  \n",
       "6  -0.508613  \n",
       "7  -0.266693  \n",
       "8  -0.508960  \n",
       "9   1.224144  \n",
       "10 -0.508959  \n",
       "11 -0.500665  "
      ]
     },
     "execution_count": 385,
     "metadata": {},
     "output_type": "execute_result"
    }
   ],
   "source": [
    "pd.DataFrame(X)"
   ]
  }
 ],
 "metadata": {
  "kernelspec": {
   "display_name": "Python 3",
   "language": "python",
   "name": "python3"
  },
  "language_info": {
   "codemirror_mode": {
    "name": "ipython",
    "version": 3
   },
   "file_extension": ".py",
   "mimetype": "text/x-python",
   "name": "python",
   "nbconvert_exporter": "python",
   "pygments_lexer": "ipython3",
   "version": "3.8.3"
  }
 },
 "nbformat": 4,
 "nbformat_minor": 4
}
