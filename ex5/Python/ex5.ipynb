{
 "cells": [
  {
   "cell_type": "markdown",
   "metadata": {},
   "source": [
    "# Learning curves"
   ]
  },
  {
   "cell_type": "code",
   "execution_count": 521,
   "metadata": {},
   "outputs": [],
   "source": [
    "def polyFeatures(X, degree):\n",
    "    X_poly = np.zeros((X.shape[0], degree))\n",
    "    X_poly[:, 0] = X.reshape(-1)\n",
    "    for i in range(1, degree):\n",
    "        X_poly[:, i] = (X**(i+1)).reshape(-1)\n",
    "    return X_poly"
   ]
  },
  {
   "cell_type": "code",
   "execution_count": 522,
   "metadata": {},
   "outputs": [],
   "source": [
    "def mapFeature(X):\n",
    "    mu = np.mean(X, axis=0).reshape(1,-1)\n",
    "    X_norm = X-mu\n",
    "    sigma = np.std(X, axis=0, ddof=1).reshape(1,-1)\n",
    "    X_norm = X_norm/sigma\n",
    "    return X_norm, mu, sigma"
   ]
  },
  {
   "cell_type": "code",
   "execution_count": 523,
   "metadata": {},
   "outputs": [],
   "source": [
    "def validationCurve(X, y, X_val, y_val):\n",
    "    lambdas = [0, 0.001, 0.003, 0.01, 0.03, 0.1, 0.3, 1, 3, 10]\n",
    "    cost_val = []\n",
    "    cost_train = []\n",
    "    for i in range(len(lambdas)):\n",
    "        _lambda = lambdas[i]\n",
    "        theta = train(X, y, _lambda, False)\n",
    "        cost_train.append(costFunction(X, y, theta, 0)[0])\n",
    "        cost_val.append(costFunction(X_val, y_val, theta, 0)[0])\n",
    "    \n",
    "    return lambdas, cost_train, cost_val"
   ]
  },
  {
   "cell_type": "code",
   "execution_count": 524,
   "metadata": {},
   "outputs": [],
   "source": [
    "def train(X, y, _lambda, disp=True):\n",
    "    \n",
    "    theta_0 = np.zeros((X.shape[1], 1))\n",
    "    \n",
    "    J = lambda theta: costFunction(X, y, theta, _lambda)[0]\n",
    "    dJ = lambda theta: costFunction(X, y, theta, _lambda)[1]\n",
    "    theta = optimize.fmin_cg(J, theta_0, fprime=dJ, maxiter=200, disp=disp)\n",
    "    return theta"
   ]
  },
  {
   "cell_type": "code",
   "execution_count": 525,
   "metadata": {},
   "outputs": [],
   "source": [
    "def costFunction(X, y, theta, _lambda):\n",
    "    m = y.shape[0]\n",
    "    n = X.shape[1]\n",
    "    \n",
    "    theta = theta.reshape(-1,1)\n",
    "    \n",
    "    grad = np.zeros(theta.shape)\n",
    "    h = X@theta\n",
    "    J = 1/(2*m) * ((h-y).T@(h-y) + _lambda*(theta[1:].T@theta[1:]))\n",
    "    \n",
    "    grad[0] = 1/m * (X[:,0].T@(h-y)) \n",
    "    grad[1:] = 1/m * (X[:,1:].T@(h-y) + _lambda*theta[1:])\n",
    "    \n",
    "    grad = grad.reshape(-1)\n",
    "    \n",
    "    return J.item(), grad"
   ]
  },
  {
   "cell_type": "code",
   "execution_count": 526,
   "metadata": {},
   "outputs": [],
   "source": [
    "def learningCurve(X, y, X_val, y_val, _lambda):\n",
    "    m = X.shape[0]\n",
    "    cost_train = []\n",
    "    cost_val = []\n",
    "    for i in range(m):\n",
    "        theta = train(X[0:i+1,:], y[0:i+1], _lambda, False)\n",
    "        cost_train.append(costFunction(X[0:i+1,:], y[0:i+1], theta, 0)[0])\n",
    "        cost_val.append(costFunction(X_val, y_val, theta, 0)[0])\n",
    "        \n",
    "    return cost_train, cost_val"
   ]
  },
  {
   "cell_type": "markdown",
   "metadata": {},
   "source": [
    "# Plotting training data"
   ]
  },
  {
   "cell_type": "code",
   "execution_count": 527,
   "metadata": {
    "scrolled": false
   },
   "outputs": [
    {
     "data": {
      "text/plain": [
       "[<matplotlib.lines.Line2D at 0x288059fe5b0>]"
      ]
     },
     "execution_count": 527,
     "metadata": {},
     "output_type": "execute_result"
    },
    {
     "data": {
      "image/png": "[encoded data removed]",
      "text/plain": [
       "<Figure size 432x288 with 1 Axes>"
      ]
     },
     "metadata": {
      "needs_background": "light"
     },
     "output_type": "display_data"
    }
   ],
   "source": [
    "from scipy import optimize\n",
    "\n",
    "import scipy.io\n",
    "\n",
    "import numpy as np\n",
    "import matplotlib.pyplot as plt\n",
    "\n",
    "\n",
    "data = scipy.io.loadmat('../MATLAB/ex5data1.mat')\n",
    "X_train = data['X']\n",
    "y_train = data['y']\n",
    "X_val = data['Xval']\n",
    "y_val = data['yval']\n",
    "X_test = data['Xtest']\n",
    "y_test = data['ytest']\n",
    "\n",
    "plt.plot(X_train, y_train, 'o')"
   ]
  },
  {
   "cell_type": "markdown",
   "metadata": {},
   "source": [
    "# Training the model"
   ]
  },
  {
   "cell_type": "code",
   "execution_count": 528,
   "metadata": {
    "scrolled": false
   },
   "outputs": [
    {
     "name": "stdout",
     "output_type": "stream",
     "text": [
      "Optimization terminated successfully.\n",
      "         Current function value: 22.379542\n",
      "         Iterations: 2\n",
      "         Function evaluations: 5\n",
      "         Gradient evaluations: 5\n"
     ]
    },
    {
     "data": {
      "text/plain": [
       "[<matplotlib.lines.Line2D at 0x28806e12bb0>]"
      ]
     },
     "execution_count": 528,
     "metadata": {},
     "output_type": "execute_result"
    },
    {
     "data": {
      "image/png": "[encoded data removed]",
      "text/plain": [
       "<Figure size 432x288 with 1 Axes>"
      ]
     },
     "metadata": {
      "needs_background": "light"
     },
     "output_type": "display_data"
    }
   ],
   "source": [
    "ones = np.ones((m,1))\n",
    "\n",
    "_lambda = 1\n",
    "\n",
    "theta = train(np.append(ones, X_train, axis=1), y_train, _lambda, True)\n",
    "\n",
    "plt.plot(X_train, y_train, 'o')\n",
    "plt.plot(X_train, np.append(ones, X_train, axis=1)@theta)"
   ]
  },
  {
   "cell_type": "code",
   "execution_count": 529,
   "metadata": {},
   "outputs": [
    {
     "data": {
      "text/plain": [
       "array([13.08771416,  0.367742  ])"
      ]
     },
     "execution_count": 529,
     "metadata": {},
     "output_type": "execute_result"
    }
   ],
   "source": [
    "theta"
   ]
  },
  {
   "cell_type": "markdown",
   "metadata": {},
   "source": [
    "# Learning curve Cost Vs Number of training examples"
   ]
  },
  {
   "cell_type": "code",
   "execution_count": 530,
   "metadata": {
    "scrolled": true
   },
   "outputs": [
    {
     "data": {
      "image/png": "[encoded data removed]",
      "text/plain": [
       "<Figure size 432x288 with 1 Axes>"
      ]
     },
     "metadata": {
      "needs_background": "light"
     },
     "output_type": "display_data"
    }
   ],
   "source": [
    "_lambda = 0\n",
    "\n",
    "cost_train, cost_val = learningCurve(np.append(ones, X_train, axis=1), y_train, np.append(np.ones((X_val.shape[0],1)), X_val, axis=1), y_val, _lambda)\n",
    "\n",
    "plt.plot(np.arange(m), cost_train, label='Training cost')\n",
    "plt.plot(np.arange(m), cost_val, label='Validation cost')\n",
    "plt.legend(loc = 'best')\n",
    "plt.title('Cost Vs Training examples')\n",
    "plt.ylabel('Cost')\n",
    "plt.xlabel('Training examples')\n",
    "plt.show()"
   ]
  },
  {
   "cell_type": "markdown",
   "metadata": {},
   "source": [
    "# Training the polynomial model"
   ]
  },
  {
   "cell_type": "code",
   "execution_count": 531,
   "metadata": {},
   "outputs": [
    {
     "name": "stdout",
     "output_type": "stream",
     "text": [
      "Warning: Maximum number of iterations has been exceeded.\n",
      "         Current function value: 0.084319\n",
      "         Iterations: 200\n",
      "         Function evaluations: 383\n",
      "         Gradient evaluations: 383\n"
     ]
    },
    {
     "data": {
      "text/plain": [
       "(12,)"
      ]
     },
     "execution_count": 531,
     "metadata": {},
     "output_type": "execute_result"
    },
    {
     "data": {
      "image/png": "[encoded data removed]",
      "text/plain": [
       "<Figure size 432x288 with 1 Axes>"
      ]
     },
     "metadata": {
      "needs_background": "light"
     },
     "output_type": "display_data"
    }
   ],
   "source": [
    "X = polyFeatures(X_train, 8)\n",
    "X, mu, sigma = mapFeature(X)\n",
    "X = np.append(ones, X, axis=1)\n",
    "\n",
    "X_val2 = polyFeatures(X_val, 8)\n",
    "X_val2, mu2, sigma2 = mapFeature(X_val2)\n",
    "X_val2 = np.append(np.ones((X_val2.shape[0], 1)), X_val2, axis=1)\n",
    "\n",
    "theta = train(X, y_train, _lambda=0, disp=True)\n",
    "\n",
    "x = np.linspace(np.min(X_train)-15,np.max(X_train)+25, 12)\n",
    "\n",
    "plt.plot(X_train, y_train, 'o')\n",
    "plt.plot(x, X@theta)\n",
    "(X@theta).shape"
   ]
  },
  {
   "cell_type": "markdown",
   "metadata": {},
   "source": [
    "# Learning curve Cost Vs Lambda"
   ]
  },
  {
   "cell_type": "markdown",
   "metadata": {},
   "source": []
  },
  {
   "cell_type": "code",
   "execution_count": 532,
   "metadata": {
    "scrolled": false
   },
   "outputs": [
    {
     "data": {
      "image/png": "[encoded data removed]",
      "text/plain": [
       "<Figure size 432x288 with 1 Axes>"
      ]
     },
     "metadata": {
      "needs_background": "light"
     },
     "output_type": "display_data"
    },
    {
     "name": "stdout",
     "output_type": "stream",
     "text": [
      "Training cost:  0.08431893419667726  CV Cost:  8.963920942407599  Lambda:  0\n",
      "Training cost:  0.11353408988159855  CV Cost:  10.502180373519373  Lambda:  0.001\n",
      "Training cost:  0.17091139951509604  CV Cost:  14.811829507499445  Lambda:  0.003\n",
      "Training cost:  0.22150399889621414  CV Cost:  15.067443871274874  Lambda:  0.01\n",
      "Training cost:  0.28185949689732037  CV Cost:  12.043283626122339  Lambda:  0.03\n",
      "Training cost:  0.45933213544219137  CV Cost:  7.999484648652501  Lambda:  0.1\n",
      "Training cost:  0.921772641522305  CV Cost:  5.396660644162734  Lambda:  0.3\n",
      "Training cost:  2.076188266382138  CV Cost:  4.696681962905259  Lambda:  1\n",
      "Training cost:  4.901347576948206  CV Cost:  5.005827480896608  Lambda:  3\n",
      "Training cost:  16.092209985647315  CV Cost:  13.003199687072412  Lambda:  10\n"
     ]
    }
   ],
   "source": [
    "lambdas, cost_train, cost_val = validationCurve(X, y_train, X_val2, y_val)\n",
    "\n",
    "plt.plot(lambdas, cost_train, label='Training cost')\n",
    "plt.plot(lambdas, cost_val, label='Validation cost')\n",
    "plt.legend(loc = 'best')\n",
    "plt.title('Cost Vs Lambda')\n",
    "plt.ylabel('Cost')\n",
    "plt.xlabel('Lambda')\n",
    "plt.show()\n",
    "\n",
    "for i in range(len(lambdas)):\n",
    "    print('Training cost: ',cost_train[i],' CV Cost: ',cost_val[i], ' Lambda: ',lambdas[i])"
   ]
  }
 ],
 "metadata": {
  "kernelspec": {
   "display_name": "Python 3",
   "language": "python",
   "name": "python3"
  },
  "language_info": {
   "codemirror_mode": {
    "name": "ipython",
    "version": 3
   },
   "file_extension": ".py",
   "mimetype": "text/x-python",
   "name": "python",
   "nbconvert_exporter": "python",
   "pygments_lexer": "ipython3",
   "version": "3.8.3"
  }
 },
 "nbformat": 4,
 "nbformat_minor": 4
}
