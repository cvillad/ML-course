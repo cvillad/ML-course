{
 "cells": [
  {
   "cell_type": "markdown",
   "metadata": {},
   "source": [
    "# Two layer neural network for handwritten digits"
   ]
  },
  {
   "cell_type": "code",
   "execution_count": 4,
   "metadata": {},
   "outputs": [],
   "source": [
    "def displayData(X):\n",
    "    for i in range(28):\n",
    "        plt.subplot(4, 7, i+1)\n",
    "        plt.imshow(X[i].reshape(8,8))"
   ]
  },
  {
   "cell_type": "code",
   "execution_count": 5,
   "metadata": {},
   "outputs": [],
   "source": [
    "def sigmoid(z):\n",
    "    g = 1/(1+np.exp(-z))\n",
    "    return g"
   ]
  },
  {
   "cell_type": "code",
   "execution_count": 6,
   "metadata": {},
   "outputs": [],
   "source": [
    "def sigmoidGradient(z):\n",
    "    g = z * (1-z)\n",
    "    return g"
   ]
  },
  {
   "cell_type": "code",
   "execution_count": 104,
   "metadata": {},
   "outputs": [],
   "source": [
    "def initializeWeights(L_in, L_out):\n",
    "    epsilon = 0.12\n",
    "    W = np.random.rand(L_out, L_in + 1) * 2 * epsilon - epsilon;\n",
    "    return W"
   ]
  },
  {
   "cell_type": "code",
   "execution_count": 19,
   "metadata": {},
   "outputs": [],
   "source": [
    "def predict(X, Theta1, Theta2):\n",
    "    m = X.shape[0]\n",
    "    \n",
    "    p = np.zeros((X.shape[0], 1))\n",
    "    \n",
    "    ones = np.ones((1,m))\n",
    "    a1 = np.append(ones, X.T, axis=0)\n",
    "    z2 = Theta1@a1;\n",
    "    a2 = np.append(ones, sigmoid(z2), axis=0)\n",
    "    z3 = Theta2@a2;\n",
    "    h = sigmoid(z3);\n",
    "    \n",
    "    p = np.argmax(h, axis=0)\n",
    "    \n",
    "    return p.reshape(-1,1)"
   ]
  },
  {
   "cell_type": "code",
   "execution_count": 80,
   "metadata": {},
   "outputs": [],
   "source": [
    "def costFunction(params, input_layer_size, hidden_layer_size, num_labels, X, y, _lambda):\n",
    "    m = y.shape[0]\n",
    "    n = X.shape[1]\n",
    "    \n",
    "    J = 0\n",
    "    Theta1 = params[0:hidden_layer_size*(input_layer_size+1)].reshape(hidden_layer_size, -1)\n",
    "    Theta2 = params[hidden_layer_size*(input_layer_size+1):].reshape(num_labels, -1)\n",
    "    grad = [np.ones(Theta1.shape), np.ones(Theta2.shape)]\n",
    "    \n",
    "    y = np.eye(num_labels)[:,y].squeeze()\n",
    "    \n",
    "    ones = np.ones((1,m))\n",
    "    a1 = np.append(ones, X.T, axis=0)\n",
    "    z2 = Theta1@a1;\n",
    "    a2 = np.append(ones, sigmoid(z2), axis=0)\n",
    "    z3 = Theta2@a2;\n",
    "    a3 = sigmoid(z3);\n",
    "    \n",
    "    h = a3\n",
    "    J = -1/m * (np.sum(y * np.log(h) + (1-y) * np.log(1-h)) - (_lambda/2)*(np.sum(Theta1[:,1:]**2) + np.sum(Theta1[:,1:]**2)))\n",
    "    \n",
    "    dZ3 = a3 - y\n",
    "                \n",
    "    grad[1][:,0] = dZ3@a2[0,:].T \n",
    "    grad[1][:,1:] = dZ3@a2[1:,:].T + _lambda*Theta2[:,1:] \n",
    "                \n",
    "    dZ2 = Theta2.T@dZ3* sigmoidGradient(a2)\n",
    "\n",
    "    grad[0][:,0] = (dZ2[1:,:] @ ((a1[0,:].T).reshape(a1.shape[1],1))).reshape(1,-1)\n",
    "    grad[0][:,1:] = dZ2[1:,:]@a1[1:,:].T + _lambda*Theta1[:,1:] \n",
    "    \n",
    "    grads = np.append(grad[0].reshape(-1)/m, grad[1].reshape(-1)/m )\n",
    "    \n",
    "    return J.item(), grads"
   ]
  },
  {
   "cell_type": "markdown",
   "metadata": {},
   "source": [
    "# Plotting some examples"
   ]
  },
  {
   "cell_type": "code",
   "execution_count": 115,
   "metadata": {},
   "outputs": [
    {
     "data": {
      "image/png": "[encoded data removed]",
      "text/plain": [
       "<Figure size 432x288 with 28 Axes>"
      ]
     },
     "metadata": {
      "needs_background": "light"
     },
     "output_type": "display_data"
    }
   ],
   "source": [
    "import numpy as np\n",
    "import matplotlib.pyplot as plt\n",
    "\n",
    "from sklearn.datasets import load_digits\n",
    "from scipy import optimize\n",
    "\n",
    "\n",
    "digits = load_digits()\n",
    "\n",
    "X = digits.data\n",
    "y = digits.target.reshape(-1, 1)\n",
    "\n",
    "m, n = X.shape\n",
    "\n",
    "displayData(X)"
   ]
  },
  {
   "cell_type": "markdown",
   "metadata": {},
   "source": [
    "# Training the model"
   ]
  },
  {
   "cell_type": "code",
   "execution_count": 122,
   "metadata": {},
   "outputs": [
    {
     "name": "stdout",
     "output_type": "stream",
     "text": [
      "Warning: Maximum number of iterations has been exceeded.\n",
      "         Current function value: 0.178277\n",
      "         Iterations: 400\n",
      "         Function evaluations: 624\n",
      "         Gradient evaluations: 624\n",
      "train accuracy:  99.44351697273233 %\n"
     ]
    }
   ],
   "source": [
    "input_layer_size  = n;\n",
    "hidden_layer_size = 25;\n",
    "num_labels = 10;        \n",
    "\n",
    "initial_Theta1 = initializeWeights(input_layer_size, hidden_layer_size);\n",
    "initial_Theta2 = initializeWeights(hidden_layer_size, num_labels);\n",
    "\n",
    "initial_params = np.append(initial_Theta1, initial_Theta2);\n",
    "\n",
    "_lambda = 1;\n",
    "\n",
    "J = lambda theta: costFunction(theta, input_layer_size, hidden_layer_size, num_labels, X, y, _lambda)[0]\n",
    "dJ = lambda theta: costFunction(theta, input_layer_size, hidden_layer_size, num_labels, X, y, _lambda)[1]\n",
    "all_theta = optimize.fmin_cg(J, initial_params, fprime=dJ, maxiter=400,gtol=0.001)\n",
    "\n",
    "Theta1 = all_theta[0:hidden_layer_size*(input_layer_size+1)].reshape(hidden_layer_size,-1)\n",
    "Theta2 = all_theta[hidden_layer_size*(input_layer_size+1):].reshape(num_labels,-1)\n",
    "\n",
    "\n",
    "y_predict = predict(X, Theta1, Theta2)\n",
    "\n",
    "print('train accuracy: ',np.mean(1*(y_predict==y))*100,'%')"
   ]
  },
  {
   "cell_type": "markdown",
   "metadata": {},
   "source": [
    "# Predicting a random example"
   ]
  },
  {
   "cell_type": "code",
   "execution_count": 123,
   "metadata": {},
   "outputs": [
    {
     "data": {
      "text/plain": [
       "Text(0.5, 1.0, 'predicted: 5')"
      ]
     },
     "execution_count": 123,
     "metadata": {},
     "output_type": "execute_result"
    },
    {
     "data": {
      "image/png": "[encoded data removed]",
      "text/plain": [
       "<Figure size 432x288 with 1 Axes>"
      ]
     },
     "metadata": {
      "needs_background": "light"
     },
     "output_type": "display_data"
    }
   ],
   "source": [
    "random = np.random.randint(m)\n",
    "example = X[random].reshape(1,-1)\n",
    "predicted = predict(example, Theta1, Theta2).item()\n",
    "plt.imshow(example.reshape(8,8))\n",
    "plt.title('predicted: '+str(predicted))"
   ]
  },
  {
   "cell_type": "markdown",
   "metadata": {},
   "source": [
    "# Gradient checking"
   ]
  },
  {
   "cell_type": "code",
   "execution_count": 143,
   "metadata": {},
   "outputs": [],
   "source": [
    "def gradientChecking(J, theta):\n",
    "    grad = np.zeros(theta.shape)\n",
    "    perturb = np.zeros(theta.shape)\n",
    "\n",
    "    e = 1e-4;\n",
    "    for index in range(len(theta)):\n",
    "        perturb[index] = e\n",
    "        grad[index] = (J(theta + perturb) - J(theta - perturb)) / (2*e)\n",
    "        perturb[index] = 0\n",
    "    \n",
    "    return grad"
   ]
  },
  {
   "cell_type": "code",
   "execution_count": 140,
   "metadata": {},
   "outputs": [],
   "source": [
    "def checkGradient(_lambda=0):\n",
    "    input_layer_size = 3\n",
    "    hidden_layer_size = 5\n",
    "    num_labels = 3\n",
    "    m = 5\n",
    "    \n",
    "    Theta1 = initializeWeights(input_layer_size, hidden_layer_size)\n",
    "    Theta2 = initializeWeights(hidden_layer_size, num_labels)\n",
    "    \n",
    "    params = np.append(Theta1.reshape(-1), Theta2.reshape(-1))\n",
    "    \n",
    "    X  = np.random.rand(m, input_layer_size)\n",
    "    y  = np.mod(np.arange(m), num_labels)\n",
    "    \n",
    "    print(\"X:\",X.shape,\"y:\", y.shape,\"Theta1:\",Theta1.shape,\"Theta2:\", Theta2.shape,\"All_theta:\", params.shape)\n",
    "    \n",
    "    J = lambda theta: costFunction(theta, input_layer_size, hidden_layer_size, num_labels, X, y, _lambda)[0]\n",
    "    dJ = lambda theta: costFunction(theta, input_layer_size, hidden_layer_size, num_labels, X, y, _lambda)[1]\n",
    "    \n",
    "    grad = dJ(params)\n",
    "    numericalGradient = gradientChecking(J, params)\n",
    "    \n",
    "    print(grad,'\\n', numericalGradient)"
   ]
  },
  {
   "cell_type": "code",
   "execution_count": 144,
   "metadata": {},
   "outputs": [
    {
     "name": "stdout",
     "output_type": "stream",
     "text": [
      "X: (5, 3) y: (5,) Theta1: (5, 4) Theta2: (3, 6) All_theta: (38,)\n",
      "[-3.01265559e-03 -2.96648827e-03 -1.44431264e-03 -9.98422844e-04\n",
      "  6.98509702e-03  4.95004813e-03  2.67154630e-03  8.70468640e-03\n",
      "  2.63507722e-03  1.06162620e-03  6.60224870e-04  3.38534009e-03\n",
      " -1.91778775e-03  1.40112121e-03  5.28540423e-04  2.28726934e-04\n",
      " -3.52675205e-03  1.21390137e-04 -8.56742590e-05  7.16112332e-04\n",
      "  9.34572789e-02  4.76914543e-02  5.49711630e-02  5.12004317e-02\n",
      "  4.72401913e-02  5.44290874e-02  6.34444232e-02  3.01723842e-02\n",
      "  2.96909367e-02  3.01184326e-02  2.88101435e-02  2.94560227e-02\n",
      "  2.85611174e-01  1.37527971e-01  1.57163661e-01  1.49689737e-01\n",
      "  1.35518370e-01  1.50102619e-01] \n",
      " [-3.01265559e-03 -2.96648827e-03 -1.44431264e-03 -9.98422842e-04\n",
      "  6.98509701e-03  4.95004812e-03  2.67154630e-03  8.70468640e-03\n",
      "  2.63507722e-03  1.06162620e-03  6.60224873e-04  3.38534008e-03\n",
      " -1.91778775e-03  1.40112121e-03  5.28540423e-04  2.28726931e-04\n",
      " -3.52675205e-03  1.21390136e-04 -8.56742610e-05  7.16112329e-04\n",
      "  9.34572789e-02  4.76914543e-02  5.49711630e-02  5.12004317e-02\n",
      "  4.72401913e-02  5.44290874e-02  6.34444232e-02  3.01723842e-02\n",
      "  2.96909367e-02  3.01184326e-02  2.88101435e-02  2.94560227e-02\n",
      "  2.85611174e-01  1.37527971e-01  1.57163661e-01  1.49689737e-01\n",
      "  1.35518370e-01  1.50102619e-01]\n"
     ]
    }
   ],
   "source": [
    "checkGradient()"
   ]
  }
 ],
 "metadata": {
  "kernelspec": {
   "display_name": "Python 3",
   "language": "python",
   "name": "python3"
  },
  "language_info": {
   "codemirror_mode": {
    "name": "ipython",
    "version": 3
   },
   "file_extension": ".py",
   "mimetype": "text/x-python",
   "name": "python",
   "nbconvert_exporter": "python",
   "pygments_lexer": "ipython3",
   "version": "3.8.3"
  }
 },
 "nbformat": 4,
 "nbformat_minor": 4
}
