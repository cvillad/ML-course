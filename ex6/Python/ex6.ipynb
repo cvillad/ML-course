{
 "cells": [
  {
   "cell_type": "markdown",
   "metadata": {},
   "source": [
    "# Support Vector Machines for Spam Classifier"
   ]
  },
  {
   "cell_type": "code",
   "execution_count": 185,
   "metadata": {},
   "outputs": [],
   "source": [
    "def getVocabList(): \n",
    "    vocabList = pd.read_csv('vocab.txt', sep = '\\t', header = None)\n",
    "    return vocabList"
   ]
  },
  {
   "cell_type": "code",
   "execution_count": 316,
   "metadata": {},
   "outputs": [],
   "source": [
    "def processEmail(email_content):\n",
    "    email_content = email_content.lower()\n",
    "    \n",
    "    email_content = re.sub('<[^<>]+>', ' ', email_content)\n",
    "    email_content = re.sub('[0-9]+','number', email_content)\n",
    "    email_content = re.sub('(http|https)://[^\\s]*', 'httpaddr', email_content)\n",
    "    email_content = re.sub('[^\\s]+@[^\\s]+', 'emailaddr', email_content)\n",
    "    email_content = re.sub('[$]+', 'dollar', email_content)\n",
    "    email_content = email_content.replace('\\n',' ')\n",
    "    email_content = email_content.translate ({ord(c): \" \" for c in \"!@#$%^&*()[]{};:'',./<>?\\|`~-=_+\"})\n",
    "    email_content = re.sub('^ ','', email_content)\n",
    "    \n",
    "    ps = PorterStemmer()\n",
    "    \n",
    "    vocabList = getVocabList()\n",
    "    \n",
    "    words = email_content.split()\n",
    "    word_indices = []\n",
    "    for w in words:\n",
    "        w = re.sub('[^a-zA-Z0-9]', '', w)\n",
    "        string = ps.stem(w)\n",
    "\n",
    "        if len(string) < 1:\n",
    "            continue\n",
    "        \n",
    "        try:\n",
    "            index = vocabList[vocabList.iloc[:,1]==string].iloc[0,0]\n",
    "            word_indices.append(index)\n",
    "        except:\n",
    "            continue\n",
    "        \n",
    "    return word_indices"
   ]
  },
  {
   "cell_type": "code",
   "execution_count": 221,
   "metadata": {},
   "outputs": [],
   "source": [
    "def emailFeatures(word_indices):\n",
    "    n = 1899\n",
    "    x = np.zeros((n,1))\n",
    "    x[word_indices]=1\n",
    "    return x"
   ]
  },
  {
   "cell_type": "markdown",
   "metadata": {},
   "source": [
    "# Loading data and training the SVM model"
   ]
  },
  {
   "cell_type": "code",
   "execution_count": 333,
   "metadata": {},
   "outputs": [
    {
     "data": {
      "text/plain": [
       "SVC(C=2)"
      ]
     },
     "execution_count": 333,
     "metadata": {},
     "output_type": "execute_result"
    }
   ],
   "source": [
    "import re\n",
    "import scipy.io\n",
    "\n",
    "import numpy as np\n",
    "import pandas as pd\n",
    "\n",
    "from nltk.stem import PorterStemmer\n",
    "from nltk.tokenize import sent_tokenize, word_tokenize\n",
    "from sklearn import svm\n",
    "\n",
    "\n",
    "f = open(\"emailSample1.txt\", \"r\")\n",
    "file_content = f.read()\n",
    "word_indices = processEmail(file_content)\n",
    "x = emailFeatures(word_indices)\n",
    "\n",
    "data = scipy.io.loadmat('spamTrain.mat')\n",
    "X = data['X']\n",
    "y = data['y'].reshape(-1)\n",
    "\n",
    "clf = svm.SVC(C=2, kernel='rbf')\n",
    "clf.fit(X, y)"
   ]
  },
  {
   "cell_type": "markdown",
   "metadata": {},
   "source": [
    "# Training accuracy"
   ]
  },
  {
   "cell_type": "code",
   "execution_count": 335,
   "metadata": {},
   "outputs": [
    {
     "name": "stdout",
     "output_type": "stream",
     "text": [
      "train accuracy:  99.675\n"
     ]
    }
   ],
   "source": [
    "y_predict = clf.predict(X)\n",
    "accuracy = np.mean(1*(y_predict==y))*100\n",
    "print('train accuracy: ',accuracy)"
   ]
  },
  {
   "cell_type": "markdown",
   "metadata": {},
   "source": [
    "# Test accuracy"
   ]
  },
  {
   "cell_type": "code",
   "execution_count": 334,
   "metadata": {},
   "outputs": [
    {
     "name": "stdout",
     "output_type": "stream",
     "text": [
      "test accuracy:  99.1\n"
     ]
    }
   ],
   "source": [
    "data = scipy.io.loadmat('spamTest.mat')\n",
    "X_test = data['Xtest']\n",
    "y_test = data['ytest'].reshape(-1)\n",
    "y_predict = clf.predict(X_test)\n",
    "accuracy = np.mean(1*(y_predict==y_test))*100\n",
    "print('test accuracy: ',accuracy)"
   ]
  },
  {
   "cell_type": "markdown",
   "metadata": {},
   "source": [
    "# Testing a spam example"
   ]
  },
  {
   "cell_type": "code",
   "execution_count": 338,
   "metadata": {},
   "outputs": [
    {
     "data": {
      "text/plain": [
       "array([1], dtype=uint8)"
      ]
     },
     "execution_count": 338,
     "metadata": {},
     "output_type": "execute_result"
    }
   ],
   "source": [
    "f = open(\"spamSample2.txt\", \"r\")\n",
    "file_content = f.read()\n",
    "word_indices = processEmail(file_content)\n",
    "x = emailFeatures(word_indices)\n",
    "\n",
    "clf.predict(x.reshape(1,-1))"
   ]
  },
  {
   "cell_type": "code",
   "execution_count": 339,
   "metadata": {},
   "outputs": [
    {
     "data": {
      "text/plain": [
       "'best buy viagra generic online  viagra numbermg x number pills dollarnumber  free pills   reorder discount  top selling number  quality   satisfaction guaranteed   we accept visa  master   e check payments  number  satisfied customers  httpaddr   '"
      ]
     },
     "execution_count": 339,
     "metadata": {},
     "output_type": "execute_result"
    }
   ],
   "source": [
    "email_content"
   ]
  }
 ],
 "metadata": {
  "kernelspec": {
   "display_name": "Python 3",
   "language": "python",
   "name": "python3"
  },
  "language_info": {
   "codemirror_mode": {
    "name": "ipython",
    "version": 3
   },
   "file_extension": ".py",
   "mimetype": "text/x-python",
   "name": "python",
   "nbconvert_exporter": "python",
   "pygments_lexer": "ipython3",
   "version": "3.8.3"
  }
 },
 "nbformat": 4,
 "nbformat_minor": 4
}
