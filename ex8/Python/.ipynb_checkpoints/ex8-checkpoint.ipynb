{
 "cells": [
  {
   "cell_type": "markdown",
   "metadata": {},
   "source": [
    "# Recommender system using a colaborative filltering algorithm"
   ]
  },
  {
   "cell_type": "code",
   "execution_count": 1,
   "metadata": {},
   "outputs": [],
   "source": [
    "def costFunction(params, Y, R, num_users, num_movies, n, _lambda):\n",
    "    X = params[0:num_movies*n].reshape(num_movies, -1)\n",
    "    Theta = params[num_movies*n:].reshape(num_users, -1)\n",
    "    \n",
    "    J = 0;\n",
    "    X_grad = np.zeros_like(X)\n",
    "    Theta_grad = np.zeros_like(Theta)\n",
    "    \n",
    "    J = 1/2 * np.sum((X@Theta.T-Y)**2*R)\n",
    "    J+= _lambda/2 * (np.sum(Theta**2) + np.sum(X**2))\n",
    "    \n",
    "    for i in range(num_movies):\n",
    "        X_grad[i,:] = ((X[i,:]@Theta.T - Y[i,:]) * R[i,:])@Theta \n",
    "    X_grad+=_lambda*X\n",
    "    \n",
    "    for j in range(num_users):\n",
    "        Theta_grad[j,:] = ((Theta[j,:]@X.T - Y[:,j].T) * R[:,j].T)@X\n",
    "    Theta_grad+=_lambda*Theta\n",
    "    \n",
    "    grad = np.append(X_grad, Theta_grad)\n",
    "    return J, grad"
   ]
  },
  {
   "cell_type": "code",
   "execution_count": 115,
   "metadata": {},
   "outputs": [],
   "source": [
    "def loadMovieList():\n",
    "    f = open('movie_ids.txt','r')\n",
    "    movieList = f.read().split('\\n')\n",
    "    movieList = movieList[0:len(movieList)-1]\n",
    "    movieList = [m.split(' ',1)[1] for m in movieList]\n",
    "    return movieList"
   ]
  },
  {
   "cell_type": "code",
   "execution_count": 26,
   "metadata": {},
   "outputs": [],
   "source": [
    "def normalize(Y, R):\n",
    "    mean = np.zeros((Y.shape[0], 1))\n",
    "    Y_norm = np.zeros_like(Y)\n",
    "    for i in range(Y.shape[0]): \n",
    "        idx = np.where(R[i,:]==1)\n",
    "        mean[i] = np.mean(Y[i,idx])\n",
    "        Y_norm[i,idx] = Y[i,idx] - mean[i] \n",
    "    return Y_norm, mean"
   ]
  },
  {
   "cell_type": "markdown",
   "metadata": {},
   "source": [
    "## Loading movie dataset"
   ]
  },
  {
   "cell_type": "code",
   "execution_count": 27,
   "metadata": {},
   "outputs": [
    {
     "data": {
      "text/plain": [
       "3.8783185840707963"
      ]
     },
     "execution_count": 27,
     "metadata": {},
     "output_type": "execute_result"
    }
   ],
   "source": [
    "import numpy as np\n",
    "import pandas as pd\n",
    "\n",
    "from scipy import optimize, io\n",
    "\n",
    "data = io.loadmat('ex8_movies.mat')\n",
    "Y = data['Y'] # movies x user ratings\n",
    "R = data['R'] \n",
    "\n",
    "np.mean(Y[0,R[0,:]==1])"
   ]
  },
  {
   "cell_type": "markdown",
   "metadata": {},
   "source": [
    "## Providing my own ratings"
   ]
  },
  {
   "cell_type": "code",
   "execution_count": 133,
   "metadata": {},
   "outputs": [
    {
     "name": "stdout",
     "output_type": "stream",
     "text": [
      "Rating: 4.0 - Movie: GoldenEye (1995)\n",
      "Rating: 3.0 - Movie: Babe (1995)\n",
      "Rating: 5.0 - Movie: Mighty Aphrodite (1995)\n",
      "Rating: 4.0 - Movie: Professional, The (1994)\n",
      "Rating: 5.0 - Movie: What's Eating Gilbert Grape (1993)\n",
      "Rating: 3.0 - Movie: Ace Ventura: Pet Detective (1994)\n",
      "Rating: 5.0 - Movie: Four Weddings and a Funeral (1994)\n",
      "Rating: 2.0 - Movie: Snow White and the Seven Dwarfs (1937)\n",
      "Rating: 4.0 - Movie: Army of Darkness (1993)\n",
      "Rating: 5.0 - Movie: Star Trek VI: The Undiscovered Country (1991)\n",
      "Rating: 5.0 - Movie: Client, The (1994)\n"
     ]
    }
   ],
   "source": [
    "movieList = loadMovieList()\n",
    "my_ratings = np.zeros(len(movieList))\n",
    "my_ratings[1] = 4;\n",
    "my_ratings[98] = 2;\n",
    "my_ratings[7] = 3;\n",
    "my_ratings[12]= 5;\n",
    "my_ratings[54] = 4;\n",
    "my_ratings[64]= 5;\n",
    "my_ratings[66]= 3;\n",
    "my_ratings[69] = 5;\n",
    "my_ratings[183] = 4;\n",
    "my_ratings[226] = 5;\n",
    "my_ratings[355]= 5;\n",
    "\n",
    "[print('Rating:', rating, '- Movie:',movieList[i]) for i,rating in enumerate(my_ratings) if rating>0];"
   ]
  },
  {
   "cell_type": "markdown",
   "metadata": {},
   "source": [
    "## Adding my ratings to the dataset and training the model"
   ]
  },
  {
   "cell_type": "code",
   "execution_count": 134,
   "metadata": {},
   "outputs": [
    {
     "name": "stdout",
     "output_type": "stream",
     "text": [
      "Warning: Maximum number of iterations has been exceeded.\n",
      "         Current function value: 38959.725916\n",
      "         Iterations: 200\n",
      "         Function evaluations: 288\n",
      "         Gradient evaluations: 288\n"
     ]
    }
   ],
   "source": [
    "Y = np.append(my_ratings.reshape(-1,1), Y, axis=1)\n",
    "R = np.append(1*(my_ratings!=0).reshape(-1,1), R, axis=1)\n",
    "Y_norm, Y_mean = normalize(Y, R)\n",
    "\n",
    "num_movies, num_users = Y.shape\n",
    "num_features = 10\n",
    "\n",
    "X = np.random.rand(num_movies, num_features)\n",
    "Theta = np.random.rand(num_users, num_features)\n",
    "\n",
    "initial_params = np.append(X, Theta)\n",
    "_lambda = 10\n",
    "\n",
    "J = lambda t: costFunction(t, Y_norm, R, num_users, num_movies, num_features, _lambda)[0]\n",
    "grad = lambda t: costFunction(t, Y_norm, R, num_users, num_movies, num_features, _lambda)[1]\n",
    "params = optimize.fmin_cg(J, initial_params, fprime=grad, maxiter=200, disp=True)"
   ]
  },
  {
   "cell_type": "markdown",
   "metadata": {},
   "source": [
    "## Recovering original shape of Theta and X"
   ]
  },
  {
   "cell_type": "code",
   "execution_count": 39,
   "metadata": {},
   "outputs": [],
   "source": [
    "X = params[0:num_movies*num_features].reshape(num_movies,-1)\n",
    "Theta = params[num_movies*num_features:].reshape(num_users,-1)"
   ]
  },
  {
   "cell_type": "markdown",
   "metadata": {},
   "source": [
    "## Top 10 recommended movies"
   ]
  },
  {
   "cell_type": "code",
   "execution_count": 132,
   "metadata": {},
   "outputs": [
    {
     "name": "stdout",
     "output_type": "stream",
     "text": [
      "5.0 for Prefontaine (1997)\n",
      "5.0 for Star Kid (1997)\n",
      "5.0 for They Made Me a Criminal (1939)\n",
      "5.0 for Aiqing wansui (1994)\n",
      "5.0 for Great Day in Harlem, A (1994)\n",
      "5.0 for Santa with Muscles (1996)\n",
      "5.0 for Marlene Dietrich: Shadow and Light (1996) \n",
      "5.0 for Entertaining Angels: The Dorothy Day Story (1996)\n",
      "5.0 for Saint of Fort Washington, The (1993)\n",
      "5.0 for Someone Else's America (1995)\n"
     ]
    }
   ],
   "source": [
    "p = X@Theta.T\n",
    "predictions = p[:,0]+Y_mean.reshape(-1)\n",
    "idx = predictions.argsort()[-10:][::-1]\n",
    "\n",
    "[print(round(predictions[idx[i]],2),'for',movie) for i,movie in enumerate(np.array(movieList)[idx])];"
   ]
  }
 ],
 "metadata": {
  "kernelspec": {
   "display_name": "Python 3",
   "language": "python",
   "name": "python3"
  },
  "language_info": {
   "codemirror_mode": {
    "name": "ipython",
    "version": 3
   },
   "file_extension": ".py",
   "mimetype": "text/x-python",
   "name": "python",
   "nbconvert_exporter": "python",
   "pygments_lexer": "ipython3",
   "version": "3.8.3"
  }
 },
 "nbformat": 4,
 "nbformat_minor": 4
}
