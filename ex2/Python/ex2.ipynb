{
 "cells": [
  {
   "cell_type": "code",
   "execution_count": 100,
   "metadata": {},
   "outputs": [],
   "source": [
    "def plotData(X, y):\n",
    "    pos = np.where(y==1)\n",
    "    neg = np.where(y==0)\n",
    "    \n",
    "    plt.figure\n",
    "    plt.scatter(X[pos,0],X[pos,1],label='positive')\n",
    "    plt.scatter(X[neg,0],X[neg,1],label='negative')\n",
    "    plt.xlabel('Test 1')\n",
    "    plt.ylabel('Test 2')\n",
    "    plt.legend(loc='best')"
   ]
  },
  {
   "cell_type": "code",
   "execution_count": 101,
   "metadata": {},
   "outputs": [],
   "source": [
    "def mapFeature(X1, X2):\n",
    "    degree = 6\n",
    "    n=X1.shape[0]\n",
    "    \n",
    "    out = np.ones(shape=(n,1))\n",
    "    for i in range(1,degree+1):\n",
    "        for j in range (0,i+1):\n",
    "            add = (X1**(i-j)*X2**j)\n",
    "            out = np.append(out,add,axis=1)\n",
    "    return out"
   ]
  },
  {
   "cell_type": "code",
   "execution_count": 102,
   "metadata": {},
   "outputs": [],
   "source": [
    "def sigmoid(z):\n",
    "    g = np.zeros(shape=z.shape)\n",
    "    g = 1/(1+np.exp(-z))\n",
    "    g = g.reshape(-1,1)\n",
    "    return g"
   ]
  },
  {
   "cell_type": "code",
   "execution_count": 103,
   "metadata": {},
   "outputs": [],
   "source": [
    "def computeCost(theta, X, y, _lambda):\n",
    "    m = y.shape[0]\n",
    "    n = X.shape[1]\n",
    "    \n",
    "    J = 0\n",
    "    #grad = np.zeros(shape=theta.shape)\n",
    "    \n",
    "    h = sigmoid(X@theta)\n",
    "    J = -1/m * (y.T@np.log(h) + (1-y).T@np.log(1-h)-(_lambda/2)*(theta[1:].T@theta[1:]))\n",
    "    \n",
    "    #grad[0] = 1/m * ((X[:,0]).T@(h-y)) \n",
    "    #grad[1:] = 1/m * (X[:,1:].T@(h-y)) + (_lambda/m)*theta[1:]\n",
    "    \n",
    "    return J.item()"
   ]
  },
  {
   "cell_type": "code",
   "execution_count": 104,
   "metadata": {},
   "outputs": [],
   "source": [
    "def gradientDescent(X, y ,theta, alpha, _lambda, num_iters):\n",
    "    m = y.shape[0]\n",
    "    \n",
    "    J_history = []\n",
    "    dtheta = np.zeros(shape=theta.shape)\n",
    "    \n",
    "    for iter in range(num_iters):\n",
    "        h = sigmoid(X@theta)\n",
    "        \n",
    "        dtheta[0] = 1/m * ((X[:,0]).T@(h-y))\n",
    "        dtheta[1:] = 1/m * (X[:,1:].T@(h-y)) + (_lambda/m)*theta[1:]\n",
    "        \n",
    "        theta = theta*(1-alpha*_lambda/m) - alpha*dtheta\n",
    "        J_history.append(computeCost(theta, X, y, _lambda))\n",
    "    \n",
    "    return theta, J_history"
   ]
  },
  {
   "cell_type": "code",
   "execution_count": 105,
   "metadata": {},
   "outputs": [],
   "source": [
    "def predict(theta, X):\n",
    "    m = X.shape[0]\n",
    "    p = np.zeros(shape=(m,1))\n",
    "    h = sigmoid(X@theta)\n",
    "    \n",
    "    p[h>=0.5]=1\n",
    "    p[h<0.5]=0\n",
    "    \n",
    "    return p"
   ]
  },
  {
   "cell_type": "code",
   "execution_count": 127,
   "metadata": {},
   "outputs": [],
   "source": [
    "def plotDecisionBoundary(theta, X, y):\n",
    "    plotData(X[:,1:3],y)\n",
    "    \n",
    "    m=X.shape[0]\n",
    "    xx = np.linspace(-1, 1.5, 50).reshape(50,1)\n",
    "    yy = np.linspace(-1, 1.5, 50).reshape(50,1)\n",
    "    \n",
    "    Z = np.zeros(shape=(len(xx),len(yy)))\n",
    "    I_50 = np.zeros(shape=(len(theta),50))\n",
    "\n",
    "    Z = mapFeature(xx, yy[j].reshape(1,1))@(theta+I_50)\n",
    "    \n",
    "    xx, yy = np.meshgrid(yy, xx)\n",
    "            \n",
    "    Z=Z.T\n",
    "    plt.contour(xx, yy, Z, levels=[0])\n",
    "    "
   ]
  },
  {
   "cell_type": "code",
   "execution_count": 133,
   "metadata": {},
   "outputs": [
    {
     "data": {
      "text/plain": [
       "(28, 50)"
      ]
     },
     "execution_count": 133,
     "metadata": {},
     "output_type": "execute_result"
    }
   ],
   "source": [
    "(theta+np.zeros(shape=(28,50))).shape"
   ]
  },
  {
   "cell_type": "code",
   "execution_count": 108,
   "metadata": {},
   "outputs": [
    {
     "name": "stdout",
     "output_type": "stream",
     "text": [
      "Train accuracy:  82.20338983050848\n"
     ]
    },
    {
     "data": {
      "image/png": "[encoded data removed]",
      "text/plain": [
       "<Figure size 432x288 with 1 Axes>"
      ]
     },
     "metadata": {
      "needs_background": "light"
     },
     "output_type": "display_data"
    }
   ],
   "source": [
    "import pandas as pd\n",
    "import numpy as np\n",
    "import matplotlib.pyplot as plt\n",
    "\n",
    "data = pd.read_csv(\"ex2data2.txt\",names=['Test 1','Test 2','Decission']) \n",
    "\n",
    "X = data.iloc[:, 0:2].to_numpy()\n",
    "y = data.iloc[:,2].to_numpy()\n",
    "y = y.reshape(len(y),1)\n",
    "\n",
    "m = X.shape[0]\n",
    "#ploting the data\n",
    "plotData(X,y)\n",
    "\n",
    "#adding new features\n",
    "X = mapFeature(X[:,0].reshape(m,1), X[:,1].reshape(m,1))\n",
    "\n",
    "#initialize fitting parameters\n",
    "theta = np.zeros(shape=(X.shape[1],1))\n",
    "\n",
    "#set regularization parameter\n",
    "_lambda = 1\n",
    "\n",
    "alpha = 0.7\n",
    "\n",
    "theta, cost = gradientDescent(X, y, theta, alpha, _lambda, 100)\n",
    "\n",
    "p = predict(theta, X)\n",
    "\n",
    "accuracy = np.mean(p==y)*100\n",
    "\n",
    "print(\"Train accuracy: \",accuracy)\n",
    "\n",
    "\n",
    "#cost, grad = costFunction(initial_theta, X, y, _lambda)\n",
    "\n",
    "#from scipy.optimize import minimize\n",
    "\n",
    "#res = minimize(costFunction(theta,X,y,_lambda), initial_theta, method='nelder-mead',options={'xatol': 1e-8, 'disp': True})"
   ]
  },
  {
   "cell_type": "code",
   "execution_count": 126,
   "metadata": {},
   "outputs": [
    {
     "name": "stdout",
     "output_type": "stream",
     "text": [
      "(50, 1)\n"
     ]
    },
    {
     "data": {
      "image/png": "[encoded data removed]",
      "text/plain": [
       "<Figure size 432x288 with 1 Axes>"
      ]
     },
     "metadata": {
      "needs_background": "light"
     },
     "output_type": "display_data"
    }
   ],
   "source": [
    "plotDecisionBoundary(theta, X, y)"
   ]
  }
 ],
 "metadata": {
  "kernelspec": {
   "display_name": "Python 3",
   "language": "python",
   "name": "python3"
  },
  "language_info": {
   "codemirror_mode": {
    "name": "ipython",
    "version": 3
   },
   "file_extension": ".py",
   "mimetype": "text/x-python",
   "name": "python",
   "nbconvert_exporter": "python",
   "pygments_lexer": "ipython3",
   "version": "3.8.3"
  }
 },
 "nbformat": 4,
 "nbformat_minor": 4
}
